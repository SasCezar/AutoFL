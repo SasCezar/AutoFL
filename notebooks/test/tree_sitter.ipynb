{
 "cells": [
  {
   "cell_type": "code",
   "execution_count": 48,
   "metadata": {
    "collapsed": true,
    "ExecuteTime": {
     "end_time": "2023-06-27T13:58:50.225592520Z",
     "start_time": "2023-06-27T13:58:50.184906293Z"
    }
   },
   "outputs": [],
   "source": [
    "from tree_sitter import Language, Parser"
   ]
  },
  {
   "cell_type": "code",
   "execution_count": 33,
   "outputs": [
    {
     "data": {
      "text/plain": "True"
     },
     "execution_count": 33,
     "metadata": {},
     "output_type": "execute_result"
    }
   ],
   "source": [
    "\n",
    "Language.build_library(\n",
    "    # Store the library in the `build` directory\n",
    "    'languages.so',\n",
    "\n",
    "    # Include one or more languages\n",
    "    [\n",
    "        '/home/sasce/PycharmProjects/AutoFL/data/grammars/tree-sitter-java',\n",
    "        '/home/sasce/PycharmProjects/AutoFL/data/grammars/tree-sitter-python',\n",
    "        '/home/sasce/PycharmProjects/AutoFL/data/grammars/tree-sitter-c',\n",
    "        '/home/sasce/PycharmProjects/AutoFL/data/grammars/tree-sitter-cpp',\n",
    "        '/home/sasce/PycharmProjects/AutoFL/data/grammars/tree-sitter-c-sharp',\n",
    "        '/home/sasce/PycharmProjects/AutoFL/data/grammars/tree-sitter-go',\n",
    "        '/home/sasce/PycharmProjects/AutoFL/data/grammars/tree-sitter-javascript'\n",
    "    ]\n",
    ")"
   ],
   "metadata": {
    "collapsed": false,
    "ExecuteTime": {
     "end_time": "2023-06-27T12:18:17.153840176Z",
     "start_time": "2023-06-27T12:18:09.737637912Z"
    }
   }
  },
  {
   "cell_type": "code",
   "execution_count": 34,
   "outputs": [],
   "source": [
    "JAVA_LANGUAGE = Language('/home/sasce/PycharmProjects/AutoFL/notebooks/test/languages.so', 'java')"
   ],
   "metadata": {
    "collapsed": false,
    "ExecuteTime": {
     "end_time": "2023-06-27T12:18:17.157367561Z",
     "start_time": "2023-06-27T12:18:17.154132162Z"
    }
   }
  },
  {
   "cell_type": "code",
   "execution_count": 35,
   "outputs": [],
   "source": [
    "parser = Parser()\n",
    "parser.set_language(JAVA_LANGUAGE)"
   ],
   "metadata": {
    "collapsed": false,
    "ExecuteTime": {
     "end_time": "2023-06-27T12:18:17.163530359Z",
     "start_time": "2023-06-27T12:18:17.158818395Z"
    }
   }
  },
  {
   "cell_type": "code",
   "execution_count": 36,
   "outputs": [],
   "source": [
    "code = \"\"\"\n",
    "class Lamp {\n",
    "\n",
    "  // stores the value for light\n",
    "  // true if light is on\n",
    "  // false if light is off\n",
    "  boolean isOn;\n",
    "\n",
    "  // method to turn on the light\n",
    "  void turnOn() {\n",
    "    isOn = true;\n",
    "    System.out.println(\"Light on? \" + isOn);\n",
    "\n",
    "  }\n",
    "\n",
    "  // method to turnoff the light\n",
    "  void turnOff() {\n",
    "    isOn = false;\n",
    "    System.out.println(\"Light on? \" + isOn);\n",
    "  }\n",
    "}\n",
    "\n",
    "class Main {\n",
    "  public static void main(String[] args) {\n",
    "\n",
    "    // create objects led and halogen\n",
    "    Lamp led = new Lamp();\n",
    "    Lamp halogen = new Lamp();\n",
    "\n",
    "    // turn on the light by\n",
    "    // calling method turnOn()\n",
    "    led.turnOn();\n",
    "\n",
    "    // turn off the light by\n",
    "    // calling method turnOff()\n",
    "    halogen.turnOff();\n",
    "  }\n",
    "}\n",
    "\"\"\""
   ],
   "metadata": {
    "collapsed": false,
    "ExecuteTime": {
     "end_time": "2023-06-27T12:18:17.169194896Z",
     "start_time": "2023-06-27T12:18:17.164980914Z"
    }
   }
  },
  {
   "cell_type": "code",
   "execution_count": 37,
   "outputs": [],
   "source": [
    "code = bytes(code, \"utf8\")\n",
    "tree = parser.parse(code)"
   ],
   "metadata": {
    "collapsed": false,
    "ExecuteTime": {
     "end_time": "2023-06-27T12:18:17.216749917Z",
     "start_time": "2023-06-27T12:18:17.170400882Z"
    }
   }
  },
  {
   "cell_type": "code",
   "execution_count": 38,
   "outputs": [
    {
     "data": {
      "text/plain": "'(program (class_declaration name: (identifier) body: (class_body (line_comment) (line_comment) (line_comment) (field_declaration type: (boolean_type) declarator: (variable_declarator name: (identifier))) (line_comment) (method_declaration type: (void_type) name: (identifier) parameters: (formal_parameters) body: (block (expression_statement (assignment_expression left: (identifier) right: (true))) (expression_statement (method_invocation object: (field_access object: (identifier) field: (identifier)) name: (identifier) arguments: (argument_list (binary_expression left: (string_literal (string_fragment)) right: (identifier))))))) (line_comment) (method_declaration type: (void_type) name: (identifier) parameters: (formal_parameters) body: (block (expression_statement (assignment_expression left: (identifier) right: (false))) (expression_statement (method_invocation object: (field_access object: (identifier) field: (identifier)) name: (identifier) arguments: (argument_list (binary_expression left: (string_literal (string_fragment)) right: (identifier))))))))) (class_declaration name: (identifier) body: (class_body (method_declaration (modifiers) type: (void_type) name: (identifier) parameters: (formal_parameters (formal_parameter type: (array_type element: (type_identifier) dimensions: (dimensions)) name: (identifier))) body: (block (line_comment) (local_variable_declaration type: (type_identifier) declarator: (variable_declarator name: (identifier) value: (object_creation_expression type: (type_identifier) arguments: (argument_list)))) (local_variable_declaration type: (type_identifier) declarator: (variable_declarator name: (identifier) value: (object_creation_expression type: (type_identifier) arguments: (argument_list)))) (line_comment) (line_comment) (expression_statement (method_invocation object: (identifier) name: (identifier) arguments: (argument_list))) (line_comment) (line_comment) (expression_statement (method_invocation object: (identifier) name: (identifier) arguments: (argument_list))))))))'"
     },
     "execution_count": 38,
     "metadata": {},
     "output_type": "execute_result"
    }
   ],
   "source": [
    "tree.root_node.sexp()"
   ],
   "metadata": {
    "collapsed": false,
    "ExecuteTime": {
     "end_time": "2023-06-27T12:18:17.217627893Z",
     "start_time": "2023-06-27T12:18:17.213653063Z"
    }
   }
  },
  {
   "cell_type": "code",
   "execution_count": 39,
   "outputs": [
    {
     "name": "stdout",
     "output_type": "stream",
     "text": [
      "0\n"
     ]
    }
   ],
   "source": [
    "query = JAVA_LANGUAGE.query(\"\"\"(scoped_identifier scope: (identifier) @identifier.def)\"\"\")\n",
    "captures_a = query.captures(tree.root_node)\n",
    "print(len(captures_a))"
   ],
   "metadata": {
    "collapsed": false,
    "ExecuteTime": {
     "end_time": "2023-06-27T12:18:17.218311902Z",
     "start_time": "2023-06-27T12:18:17.214202046Z"
    }
   }
  },
  {
   "cell_type": "code",
   "execution_count": 40,
   "outputs": [
    {
     "name": "stdout",
     "output_type": "stream",
     "text": [
      "28\n"
     ]
    }
   ],
   "source": [
    "query = JAVA_LANGUAGE.query(\"\"\"\n",
    "    ((identifier) @identifier)\n",
    "    ((type_identifier) @type)\"\"\")\n",
    "captures_b = query.captures(tree.root_node)\n",
    "print(len(captures_b))"
   ],
   "metadata": {
    "collapsed": false,
    "ExecuteTime": {
     "end_time": "2023-06-27T12:18:17.218788252Z",
     "start_time": "2023-06-27T12:18:17.214717442Z"
    }
   }
  },
  {
   "cell_type": "code",
   "execution_count": 41,
   "outputs": [],
   "source": [
    "res = []\n",
    "for node, _ in captures_b:\n",
    "    token = code[node.start_byte:node.end_byte]\n",
    "    res.append(token.decode())"
   ],
   "metadata": {
    "collapsed": false,
    "ExecuteTime": {
     "end_time": "2023-06-27T12:18:17.292670050Z",
     "start_time": "2023-06-27T12:18:17.215201301Z"
    }
   }
  },
  {
   "cell_type": "code",
   "execution_count": 42,
   "outputs": [
    {
     "name": "stdout",
     "output_type": "stream",
     "text": [
      "['Lamp', 'isOn', 'turnOn', 'isOn', 'System', 'out', 'println', 'isOn', 'turnOff', 'isOn', 'System', 'out', 'println', 'isOn', 'Main', 'main', 'String', 'args', 'Lamp', 'led', 'Lamp', 'Lamp', 'halogen', 'Lamp', 'led', 'turnOn', 'halogen', 'turnOff']\n"
     ]
    }
   ],
   "source": [
    "print(res)"
   ],
   "metadata": {
    "collapsed": false,
    "ExecuteTime": {
     "end_time": "2023-06-27T12:18:17.304160416Z",
     "start_time": "2023-06-27T12:18:17.261616319Z"
    }
   }
  },
  {
   "cell_type": "code",
   "execution_count": 43,
   "outputs": [],
   "source": [
    "PYTHON_LANGUAGE = Language('/home/sasce/PycharmProjects/AutoFL/notebooks/test/languages.so', 'python')\n",
    "parser = Parser()\n",
    "parser.set_language(PYTHON_LANGUAGE)"
   ],
   "metadata": {
    "collapsed": false,
    "ExecuteTime": {
     "end_time": "2023-06-27T12:18:17.304490060Z",
     "start_time": "2023-06-27T12:18:17.261999960Z"
    }
   }
  },
  {
   "cell_type": "code",
   "execution_count": 44,
   "outputs": [],
   "source": [
    "code = \"\"\"\n",
    "from collections import Counter\n",
    "import numpy as np\n",
    "from multiset import Multiset\n",
    "from entity.taxonomy import KeywordLabel\n",
    "from annotation import LFBase\n",
    "\n",
    "\n",
    "class KeywordLF(LFBase):\n",
    "\n",
    "    def annotate(self, name: str, content: str) -> np.array:\n",
    "        node_labels = np.zeros(len(self.taxonomy))\n",
    "        for _label in self.taxonomy:\n",
    "            label: KeywordLabel = _label\n",
    "            intersection = list(label.keywords.intersection(Multiset(content.split())))\n",
    "            intersection = Counter(intersection)\n",
    "            node_labels[label.index] = sum([intersection[k] * label.weights[k]\n",
    "                                            for k in intersection.keys()])\n",
    "\n",
    "        norm = np.sum(node_labels)\n",
    "        node_vec = node_labels / norm if norm > 0 else np.zeros(len(self.taxonomy))\n",
    "\n",
    "        return node_vec\n",
    "\"\"\""
   ],
   "metadata": {
    "collapsed": false,
    "ExecuteTime": {
     "end_time": "2023-06-27T12:18:17.304678677Z",
     "start_time": "2023-06-27T12:18:17.262361380Z"
    }
   }
  },
  {
   "cell_type": "code",
   "execution_count": 45,
   "outputs": [],
   "source": [
    "code = bytes(code, \"utf8\")\n",
    "tree = parser.parse(code)"
   ],
   "metadata": {
    "collapsed": false,
    "ExecuteTime": {
     "end_time": "2023-06-27T12:18:17.304876273Z",
     "start_time": "2023-06-27T12:18:17.262685008Z"
    }
   }
  },
  {
   "cell_type": "code",
   "execution_count": 46,
   "outputs": [
    {
     "data": {
      "text/plain": "'(module (import_from_statement module_name: (dotted_name (identifier)) name: (dotted_name (identifier))) (import_statement name: (aliased_import name: (dotted_name (identifier)) alias: (identifier))) (import_from_statement module_name: (dotted_name (identifier)) name: (dotted_name (identifier))) (import_from_statement module_name: (dotted_name (identifier) (identifier)) name: (dotted_name (identifier))) (import_from_statement module_name: (dotted_name (identifier)) name: (dotted_name (identifier))) (class_definition name: (identifier) superclasses: (argument_list (identifier)) body: (block (function_definition name: (identifier) parameters: (parameters (identifier) (typed_parameter (identifier) type: (type (identifier))) (typed_parameter (identifier) type: (type (identifier)))) return_type: (type (attribute object: (identifier) attribute: (identifier))) body: (block (expression_statement (assignment left: (identifier) right: (call function: (attribute object: (identifier) attribute: (identifier)) arguments: (argument_list (call function: (identifier) arguments: (argument_list (attribute object: (identifier) attribute: (identifier)))))))) (for_statement left: (identifier) right: (attribute object: (identifier) attribute: (identifier)) body: (block (expression_statement (assignment left: (identifier) type: (type (identifier)) right: (identifier))) (expression_statement (assignment left: (identifier) right: (call function: (identifier) arguments: (argument_list (call function: (attribute object: (attribute object: (identifier) attribute: (identifier)) attribute: (identifier)) arguments: (argument_list (call function: (identifier) arguments: (argument_list (call function: (attribute object: (identifier) attribute: (identifier)) arguments: (argument_list)))))))))) (expression_statement (assignment left: (identifier) right: (call function: (identifier) arguments: (argument_list (identifier))))) (expression_statement (assignment left: (subscript value: (identifier) subscript: (attribute object: (identifier) attribute: (identifier))) right: (call function: (identifier) arguments: (argument_list (list_comprehension body: (binary_operator left: (subscript value: (identifier) subscript: (identifier)) right: (subscript value: (attribute object: (identifier) attribute: (identifier)) subscript: (identifier))) (for_in_clause left: (identifier) right: (call function: (attribute object: (identifier) attribute: (identifier)) arguments: (argument_list)))))))))) (expression_statement (assignment left: (identifier) right: (call function: (attribute object: (identifier) attribute: (identifier)) arguments: (argument_list (identifier))))) (expression_statement (assignment left: (identifier) right: (conditional_expression (binary_operator left: (identifier) right: (identifier)) (comparison_operator (identifier) (integer)) (call function: (attribute object: (identifier) attribute: (identifier)) arguments: (argument_list (call function: (identifier) arguments: (argument_list (attribute object: (identifier) attribute: (identifier))))))))) (return_statement (identifier)))))))'"
     },
     "execution_count": 46,
     "metadata": {},
     "output_type": "execute_result"
    }
   ],
   "source": [
    "tree.root_node.sexp()"
   ],
   "metadata": {
    "collapsed": false,
    "ExecuteTime": {
     "end_time": "2023-06-27T12:18:17.305548996Z",
     "start_time": "2023-06-27T12:18:17.262945377Z"
    }
   }
  },
  {
   "cell_type": "code",
   "execution_count": 47,
   "outputs": [
    {
     "ename": "NameError",
     "evalue": "Invalid node type type_identifier",
     "output_type": "error",
     "traceback": [
      "\u001B[0;31m---------------------------------------------------------------------------\u001B[0m",
      "\u001B[0;31mNameError\u001B[0m                                 Traceback (most recent call last)",
      "Cell \u001B[0;32mIn[47], line 1\u001B[0m\n\u001B[0;32m----> 1\u001B[0m query \u001B[38;5;241m=\u001B[39m \u001B[43mPYTHON_LANGUAGE\u001B[49m\u001B[38;5;241;43m.\u001B[39;49m\u001B[43mquery\u001B[49m\u001B[43m(\u001B[49m\u001B[38;5;124;43m\"\"\"\u001B[39;49m\n\u001B[1;32m      2\u001B[0m \u001B[38;5;124;43m    ((identifier) @identifier)\u001B[39;49m\n\u001B[1;32m      3\u001B[0m \u001B[38;5;124;43m    ((type_identifier) @type)\u001B[39;49m\n\u001B[1;32m      4\u001B[0m \u001B[38;5;124;43m   \u001B[39;49m\u001B[38;5;124;43m\"\"\"\u001B[39;49m\u001B[43m)\u001B[49m\n\u001B[1;32m      5\u001B[0m captures_b \u001B[38;5;241m=\u001B[39m query\u001B[38;5;241m.\u001B[39mcaptures(tree\u001B[38;5;241m.\u001B[39mroot_node)\n\u001B[1;32m      6\u001B[0m \u001B[38;5;28mprint\u001B[39m(\u001B[38;5;28mlen\u001B[39m(captures_b))\n",
      "File \u001B[0;32m~/.cache/pypoetry/virtualenvs/autofl-FDpKV8AV-py3.10/lib/python3.10/site-packages/tree_sitter/__init__.py:93\u001B[0m, in \u001B[0;36mLanguage.query\u001B[0;34m(self, source)\u001B[0m\n\u001B[1;32m     91\u001B[0m \u001B[38;5;28;01mdef\u001B[39;00m \u001B[38;5;21mquery\u001B[39m(\u001B[38;5;28mself\u001B[39m, source):\n\u001B[1;32m     92\u001B[0m \u001B[38;5;250m    \u001B[39m\u001B[38;5;124;03m\"\"\"Create a Query with the given source code.\"\"\"\u001B[39;00m\n\u001B[0;32m---> 93\u001B[0m     \u001B[38;5;28;01mreturn\u001B[39;00m \u001B[43m_language_query\u001B[49m\u001B[43m(\u001B[49m\u001B[38;5;28;43mself\u001B[39;49m\u001B[38;5;241;43m.\u001B[39;49m\u001B[43mlanguage_id\u001B[49m\u001B[43m,\u001B[49m\u001B[43m \u001B[49m\u001B[43msource\u001B[49m\u001B[43m)\u001B[49m\n",
      "\u001B[0;31mNameError\u001B[0m: Invalid node type type_identifier"
     ]
    }
   ],
   "source": [
    "query = PYTHON_LANGUAGE.query(\"\"\"\n",
    "    ((identifier) @identifier)\n",
    "    ((type_identifier) @type)\n",
    "   \"\"\")\n",
    "captures_b = query.captures(tree.root_node)\n",
    "print(len(captures_b))"
   ],
   "metadata": {
    "collapsed": false,
    "ExecuteTime": {
     "end_time": "2023-06-27T12:18:17.306394006Z",
     "start_time": "2023-06-27T12:18:17.263311093Z"
    }
   }
  },
  {
   "cell_type": "code",
   "execution_count": null,
   "outputs": [],
   "source": [
    "res = []\n",
    "for node, _ in captures_b:\n",
    "    token = code[node.start_byte:node.end_byte]\n",
    "    res.append(token.decode())"
   ],
   "metadata": {
    "collapsed": false,
    "ExecuteTime": {
     "start_time": "2023-06-27T12:18:17.305858595Z"
    }
   }
  },
  {
   "cell_type": "code",
   "execution_count": null,
   "outputs": [],
   "source": [
    "print(res)"
   ],
   "metadata": {
    "collapsed": false
   }
  },
  {
   "cell_type": "code",
   "execution_count": null,
   "outputs": [],
   "source": [
    "gt = ['collections', 'Counter', 'numpy', 'np', 'multiset', 'Multiset', 'entity',\n",
    "      'taxonomy', 'KeywordLabel', 'annotation', 'LFBase', 'KeywordLF', 'LFBase',\n",
    "      'annotate', 'self', 'name', 'str', 'content', 'str', 'np', 'array',\n",
    "      'node_labels', 'np', 'zeros', 'len', 'self', 'taxonomy', '_label', 'self', 'taxonomy',\n",
    "      'label', 'KeywordLabel', '_label', 'intersection', 'list', 'label', 'keywords', 'intersection',\n",
    "      'Multiset', 'content', 'split', 'intersection', 'Counter', 'intersection', 'node_labels', 'label',\n",
    "      'index', 'sum', 'intersection', 'k', 'label', 'weights', 'k', 'k', 'intersection', 'keys',\n",
    "      'norm', 'np', 'sum', 'node_labels', 'node_vec', 'node_labels', 'norm', 'norm', '0', 'np', 'zeros',\n",
    "      'len', 'self', 'taxonomy', 'node_vec']"
   ],
   "metadata": {
    "collapsed": false
   }
  },
  {
   "cell_type": "code",
   "execution_count": null,
   "outputs": [],
   "source": [
    "len(gt)"
   ],
   "metadata": {
    "collapsed": false
   }
  },
  {
   "cell_type": "code",
   "execution_count": null,
   "outputs": [],
   "source": [
    "from multiset import Multiset\n",
    "\n",
    "Multiset(res) - Multiset(gt)"
   ],
   "metadata": {
    "collapsed": false
   }
  },
  {
   "cell_type": "code",
   "execution_count": null,
   "outputs": [],
   "source": [
    "code = \"\"\"#include \"cgraphics.h\"\n",
    "#include \"casset.h\"\n",
    "\n",
    "#include \"assets/image.h\"\n",
    "\n",
    "static SDL_Window* screen = NULL;\n",
    "static SDL_GLContext* context = NULL;\n",
    "\n",
    "static int window_flags = 0;\n",
    "static int window_multisamples = 0;\n",
    "static int window_multisamplesbuffs = 0;\n",
    "static int window_antialiasing = 0;\n",
    "\n",
    "static void graphics_viewport_start() {\n",
    "\n",
    "  screen = SDL_CreateWindow(\"Corange\",\n",
    "                          SDL_WINDOWPOS_UNDEFINED,\n",
    "                          SDL_WINDOWPOS_UNDEFINED,\n",
    "                          800, 600,\n",
    "                          window_flags);\n",
    "\n",
    "  if (screen == NULL) {\n",
    "    error(\"Could not create SDL window: %s\", SDL_GetError());\n",
    "  }\n",
    "\n",
    "  graphics_viewport_set_icon(P(\"$CORANGE/ui/corange.bmp\"));\n",
    "\n",
    "  SDL_GL_SetAttribute(SDL_GL_SHARE_WITH_CURRENT_CONTEXT, 1);\n",
    "  context = SDL_GL_CreateContext(screen);\n",
    "\n",
    "  if (context == NULL) {\n",
    "    error(\"Could not create SDL context: %s\", SDL_GetError());\n",
    "  }\n",
    "\n",
    "  SDL_GL_SetSwapInterval(1);\n",
    "  SDL_GL_LoadExtensions();\n",
    "\n",
    "  glViewport(0, 0, 800, 600);\n",
    "\n",
    "}\n",
    "\n",
    "void graphics_init() {\n",
    "\n",
    "  int error = SDL_InitSubSystem(SDL_INIT_VIDEO);\n",
    "\n",
    "  if (error == -1) {\n",
    "    error(\"Cannot initialize SDL video!\");\n",
    "  }\n",
    "\n",
    "  window_flags = SDL_WINDOW_OPENGL;\n",
    "  window_multisamples = 4;\n",
    "  window_multisamplesbuffs = 1;\n",
    "  window_antialiasing = 1;\n",
    "\n",
    "  graphics_viewport_start();\n",
    "\n",
    "  SDL_GL_PrintInfo();\n",
    "  SDL_GL_PrintExtensions();\n",
    "}\n",
    "\n",
    "SDL_GLContext* graphics_context_new() {\n",
    "  SDL_GL_SetAttribute(SDL_GL_SHARE_WITH_CURRENT_CONTEXT, 1);\n",
    "  return SDL_GL_CreateContext(screen);\n",
    "}\n",
    "\n",
    "void graphics_context_delete(SDL_GLContext* context) {\n",
    "  SDL_GL_DeleteContext(context);\n",
    "}\n",
    "\n",
    "void graphics_context_current(SDL_GLContext* context) {\n",
    "  SDL_GL_MakeCurrent(screen, context);\n",
    "}\n",
    "\n",
    "void graphics_set_antialiasing(int quality) {\n",
    "  window_antialiasing = quality;\n",
    "}\n",
    "\n",
    "int graphics_get_antialiasing() {\n",
    "  return window_antialiasing;\n",
    "}\n",
    "\n",
    "void graphics_finish() {\n",
    "  SDL_GL_DeleteContext(context);\n",
    "  SDL_DestroyWindow(screen);\n",
    "}\n",
    "\n",
    "void graphics_set_multisamples(int multisamples) {\n",
    "  window_multisamples = multisamples;\n",
    "  if (multisamples > 0) {\n",
    "    window_multisamplesbuffs = 1;\n",
    "  } else {\n",
    "    window_multisamplesbuffs = 0;\n",
    "  }\n",
    "}\n",
    "\n",
    "int graphics_get_multisamples() {\n",
    "  return window_multisamples;\n",
    "}\n",
    "\n",
    "void graphics_set_vsync(bool vsync) {\n",
    "  SDL_GL_SetSwapInterval(vsync);\n",
    "}\n",
    "\n",
    "void graphics_set_fullscreen(bool fullscreen) {\n",
    "  if (fullscreen) {\n",
    "    window_flags |= SDL_WINDOW_FULLSCREEN_DESKTOP;\n",
    "  } else {\n",
    "    window_flags &= !SDL_WINDOW_FULLSCREEN_DESKTOP;\n",
    "\n",
    "  }\n",
    "\n",
    "}\n",
    "\n",
    "bool graphics_get_fullscreen() {\n",
    "  if (window_flags & SDL_WINDOW_FULLSCREEN_DESKTOP) {\n",
    "    return true;\n",
    "  } else {\n",
    "    return false;\n",
    "  }\n",
    "}\n",
    "\n",
    "void graphics_viewport_set_size(int w, int h) {\n",
    "  SDL_SetWindowSize(screen, w, h);\n",
    "  glViewport(0, 0, w, h);\n",
    "}\n",
    "\n",
    "int graphics_viewport_height() {\n",
    "  int w, h;\n",
    "  SDL_GetWindowSize(screen, &w, &h);\n",
    "  return h;\n",
    "}\n",
    "\n",
    "int graphics_viewport_width() {\n",
    "  int w, h;\n",
    "  SDL_GetWindowSize(screen, &w, &h);\n",
    "  return w;\n",
    "}\n",
    "\n",
    "float graphics_viewport_ratio() {\n",
    "  int w, h;\n",
    "  SDL_GetWindowSize(screen, &w, &h);\n",
    "  return (float)h / (float)w;\n",
    "}\n",
    "\n",
    "void graphics_viewport_set_title(const char* title) {\n",
    "  SDL_SetWindowTitle(screen, title);\n",
    "}\n",
    "\n",
    "void graphics_viewport_set_icon(fpath icon) {\n",
    "  SDL_Surface* window_icon = SDL_LoadBMP(asset_hndl_new(icon).path.ptr);\n",
    "  SDL_SetWindowIcon(screen, window_icon);\n",
    "  SDL_FreeSurface(window_icon);\n",
    "}\n",
    "\n",
    "const char* graphics_viewport_title() {\n",
    "  return SDL_GetWindowTitle(screen);\n",
    "}\n",
    "\n",
    "static char timestamp_string[256];\n",
    "static char screenshot_string[256];\n",
    "\n",
    "void graphics_viewport_screenshot() {\n",
    "\n",
    "  unsigned char* image_data = malloc( sizeof(unsigned char) * graphics_viewport_width() * graphics_viewport_height() * 4 );\n",
    "  glReadPixels( 0, 0, graphics_viewport_width(), graphics_viewport_height(), GL_BGRA, GL_UNSIGNED_BYTE, image_data );\n",
    "\n",
    "  image* i = image_new(graphics_viewport_width(), graphics_viewport_height(), image_data);\n",
    "  image_flip_vertical(i);\n",
    "  image_bgr_to_rgb(i);\n",
    "\n",
    "  free(image_data);\n",
    "\n",
    "  timestamp(timestamp_string);\n",
    "\n",
    "  screenshot_string[0] = '0';\n",
    "  strcat(screenshot_string, \"./corange_\");\n",
    "  strcat(screenshot_string, timestamp_string);\n",
    "  strcat(screenshot_string, \".tga\");\n",
    "\n",
    "  image_write_to_file(i, screenshot_string);\n",
    "\n",
    "  image_delete(i);\n",
    "\n",
    "}\n",
    "\n",
    "void graphics_set_cursor_hidden(bool hidden) {\n",
    "  SDL_ShowCursor(hidden ? SDL_DISABLE : SDL_ENABLE);\n",
    "}\n",
    "\n",
    "bool graphics_get_cursor_hidden() {\n",
    "  return (SDL_ShowCursor(SDL_QUERY) == SDL_ENABLE ? false : true);\n",
    "}\n",
    "\n",
    "void graphics_swap() {\n",
    "  SDL_GL_SwapWindow(screen);\n",
    "}\"\"\""
   ],
   "metadata": {
    "collapsed": false
   }
  },
  {
   "cell_type": "code",
   "execution_count": null,
   "outputs": [],
   "source": [
    "C_LANGUAGE = Language('/home/sasce/PycharmProjects/AutoFL/notebooks/test/languages.so', 'c')\n",
    "parser = Parser()\n",
    "parser.set_language(C_LANGUAGE)"
   ],
   "metadata": {
    "collapsed": false
   }
  },
  {
   "cell_type": "code",
   "execution_count": null,
   "outputs": [],
   "source": [
    "code = bytes(code, \"utf8\")\n",
    "tree = parser.parse(code)\n",
    "tree.root_node.sexp()"
   ],
   "metadata": {
    "collapsed": false
   }
  },
  {
   "cell_type": "code",
   "execution_count": null,
   "outputs": [],
   "source": [
    "query = C_LANGUAGE.query(\"\"\"\n",
    "    ((identifier) @identifier)\n",
    "    ((type_identifier) @type)\n",
    "   \"\"\")\n",
    "captures_b = query.captures(tree.root_node)\n",
    "print(len(captures_b))\n",
    "res = []\n",
    "for node, _ in captures_b:\n",
    "    token = code[node.start_byte:node.end_byte]\n",
    "    res.append(token.decode())\n",
    "print(res)"
   ],
   "metadata": {
    "collapsed": false
   }
  },
  {
   "cell_type": "code",
   "execution_count": 51,
   "outputs": [],
   "source": [
    "code = \"\"\"\n",
    "// From: https://github.com/CMU-Perceptual-Computing-Lab/openpose/blob/master/src/openpose/net/bodyPartConnectorCaffe.cpp\n",
    "\n",
    "#include \"aubio_priv.h\"\n",
    "#include \"cvec.h\"\n",
    "\n",
    "cvec_t * new_cvec(uint_t length) {\n",
    "  cvec_t * s;\n",
    "  if ((sint_t)length <= 0) {\n",
    "    return NULL;\n",
    "  }\n",
    "  s = AUBIO_NEW(cvec_t);\n",
    "  s->length = length/2 + 1;\n",
    "  s->norm = AUBIO_ARRAY(smpl_t,s->length);\n",
    "  s->phas = AUBIO_ARRAY(smpl_t,s->length);\n",
    "  return s;\n",
    "}\n",
    "\n",
    "void del_cvec(cvec_t *s) {\n",
    "  AUBIO_FREE(s->norm);\n",
    "  AUBIO_FREE(s->phas);\n",
    "  AUBIO_FREE(s);\n",
    "}\n",
    "\n",
    "void cvec_norm_set_sample (cvec_t *s, smpl_t data, uint_t position) {\n",
    "  s->norm[position] = data;\n",
    "}\n",
    "\n",
    "void cvec_phas_set_sample (cvec_t *s, smpl_t data, uint_t position) {\n",
    "  s->phas[position] = data;\n",
    "}\n",
    "\n",
    "smpl_t cvec_norm_get_sample (cvec_t *s, uint_t position) {\n",
    "  return s->norm[position];\n",
    "}\n",
    "\n",
    "smpl_t cvec_phas_get_sample (cvec_t *s, uint_t position) {\n",
    "  return s->phas[position];\n",
    "}\n",
    "\n",
    "smpl_t * cvec_norm_get_data (const cvec_t *s) {\n",
    "  return s->norm;\n",
    "}\n",
    "\n",
    "smpl_t * cvec_phas_get_data (const cvec_t *s) {\n",
    "  return s->phas;\n",
    "}\n",
    "\n",
    "/* helper functions */\n",
    "\n",
    "void cvec_print(const cvec_t *s) {\n",
    "  uint_t j;\n",
    "  AUBIO_MSG(\"norm: \");\n",
    "  for (j=0; j< s->length; j++) {\n",
    "    AUBIO_MSG(AUBIO_SMPL_FMT \" \", s->norm[j]);\n",
    "  }\n",
    "  AUBIO_MSG(\"\\n\");\n",
    "  AUBIO_MSG(\"phas: \");\n",
    "  for (j=0; j< s->length; j++) {\n",
    "    AUBIO_MSG(AUBIO_SMPL_FMT \" \", s->phas[j]);\n",
    "  }\n",
    "  AUBIO_MSG(\"\\n\");\n",
    "}\n",
    "\n",
    "void cvec_copy(const cvec_t *s, cvec_t *t) {\n",
    "  if (s->length != t->length) {\n",
    "    AUBIO_ERR(\"trying to copy %d elements to %d elements \\n\",\n",
    "        s->length, t->length);\n",
    "    return;\n",
    "  }\n",
    "#if defined(HAVE_INTEL_IPP)\n",
    "  aubio_ippsCopy(s->phas, t->phas, (int)s->length);\n",
    "  aubio_ippsCopy(s->norm, t->norm, (int)s->length);\n",
    "#elif defined(HAVE_MEMCPY_HACKS)\n",
    "  memcpy(t->norm, s->norm, t->length * sizeof(smpl_t));\n",
    "  memcpy(t->phas, s->phas, t->length * sizeof(smpl_t));\n",
    "#else\n",
    "  uint_t j;\n",
    "  for (j=0; j< t->length; j++) {\n",
    "    t->norm[j] = s->norm[j];\n",
    "    t->phas[j] = s->phas[j];\n",
    "  }\n",
    "#endif\n",
    "}\n",
    "\n",
    "void cvec_norm_set_all(cvec_t *s, smpl_t val) {\n",
    "#if defined(HAVE_INTEL_IPP)\n",
    "  aubio_ippsSet(val, s->norm, (int)s->length);\n",
    "#else\n",
    "  uint_t j;\n",
    "  for (j=0; j< s->length; j++) {\n",
    "    s->norm[j] = val;\n",
    "  }\n",
    "#endif\n",
    "}\n",
    "\n",
    "void cvec_norm_zeros(cvec_t *s) {\n",
    "#if defined(HAVE_INTEL_IPP)\n",
    "  aubio_ippsZero(s->norm, (int)s->length);\n",
    "#elif defined(HAVE_MEMCPY_HACKS)\n",
    "  memset(s->norm, 0, s->length * sizeof(smpl_t));\n",
    "#else\n",
    "  cvec_norm_set_all (s, 0.);\n",
    "#endif\n",
    "}\n",
    "\n",
    "void cvec_norm_ones(cvec_t *s) {\n",
    "  cvec_norm_set_all (s, 1.);\n",
    "}\n",
    "\n",
    "void cvec_phas_set_all (cvec_t *s, smpl_t val) {\n",
    "#if defined(HAVE_INTEL_IPP)\n",
    "  aubio_ippsSet(val, s->phas, (int)s->length);\n",
    "#else\n",
    "  uint_t j;\n",
    "  for (j=0; j< s->length; j++) {\n",
    "    s->phas[j] = val;\n",
    "  }\n",
    "#endif\n",
    "}\n",
    "\n",
    "void cvec_phas_zeros(cvec_t *s) {\n",
    "#if defined(HAVE_INTEL_IPP)\n",
    "  aubio_ippsZero(s->phas, (int)s->length);\n",
    "#elif defined(HAVE_MEMCPY_HACKS)\n",
    "  memset(s->phas, 0, s->length * sizeof(smpl_t));\n",
    "#else\n",
    "  cvec_phas_set_all (s, 0.);\n",
    "#endif\n",
    "}\n",
    "\n",
    "void cvec_phas_ones(cvec_t *s) {\n",
    "  cvec_phas_set_all (s, 1.);\n",
    "}\n",
    "\n",
    "void cvec_zeros(cvec_t *s) {\n",
    "  cvec_norm_zeros(s);\n",
    "  cvec_phas_zeros(s);\n",
    "}\n",
    "\n",
    "void cvec_logmag(cvec_t *s, smpl_t lambda) {\n",
    "#if defined(HAVE_INTEL_IPP)\n",
    "  aubio_ippsMulC(s->norm, lambda, s->norm, (int)s->length);\n",
    "  aubio_ippsAddC(s->norm, 1.0, s->norm, (int)s->length);\n",
    "  aubio_ippsLn(s->norm, s->norm, (int)s->length);\n",
    "#else\n",
    "  uint_t j;\n",
    "  for (j=0; j< s->length; j++) {\n",
    "    s->norm[j] = LOG(lambda * s->norm[j] + 1);\n",
    "  }\n",
    "#endif\n",
    "}\"\"\""
   ],
   "metadata": {
    "collapsed": false,
    "ExecuteTime": {
     "end_time": "2023-06-27T13:59:25.966974079Z",
     "start_time": "2023-06-27T13:59:25.922407683Z"
    }
   }
  },
  {
   "cell_type": "code",
   "execution_count": 52,
   "outputs": [
    {
     "data": {
      "text/plain": "'(translation_unit (comment) (preproc_include path: (string_literal)) (preproc_include path: (string_literal)) (function_definition type: (type_identifier) declarator: (pointer_declarator declarator: (function_declarator declarator: (identifier) parameters: (parameter_list (parameter_declaration type: (type_identifier) declarator: (identifier))))) body: (compound_statement (declaration type: (type_identifier) declarator: (pointer_declarator declarator: (identifier))) (if_statement condition: (condition_clause value: (binary_expression left: (cast_expression type: (type_descriptor type: (type_identifier)) value: (identifier)) right: (number_literal))) consequence: (compound_statement (return_statement (null)))) (expression_statement (assignment_expression left: (identifier) right: (call_expression function: (identifier) arguments: (argument_list (identifier))))) (expression_statement (assignment_expression left: (field_expression argument: (identifier) field: (field_identifier)) right: (binary_expression left: (binary_expression left: (identifier) right: (number_literal)) right: (number_literal)))) (expression_statement (assignment_expression left: (field_expression argument: (identifier) field: (field_identifier)) right: (call_expression function: (identifier) arguments: (argument_list (identifier) (field_expression argument: (identifier) field: (field_identifier)))))) (expression_statement (assignment_expression left: (field_expression argument: (identifier) field: (field_identifier)) right: (call_expression function: (identifier) arguments: (argument_list (identifier) (field_expression argument: (identifier) field: (field_identifier)))))) (return_statement (identifier)))) (function_definition type: (primitive_type) declarator: (function_declarator declarator: (identifier) parameters: (parameter_list (parameter_declaration type: (type_identifier) declarator: (pointer_declarator declarator: (identifier))))) body: (compound_statement (expression_statement (call_expression function: (identifier) arguments: (argument_list (field_expression argument: (identifier) field: (field_identifier))))) (expression_statement (call_expression function: (identifier) arguments: (argument_list (field_expression argument: (identifier) field: (field_identifier))))) (expression_statement (call_expression function: (identifier) arguments: (argument_list (identifier)))))) (function_definition type: (primitive_type) declarator: (function_declarator declarator: (identifier) parameters: (parameter_list (parameter_declaration type: (type_identifier) declarator: (pointer_declarator declarator: (identifier))) (parameter_declaration type: (type_identifier) declarator: (identifier)) (parameter_declaration type: (type_identifier) declarator: (identifier)))) body: (compound_statement (expression_statement (assignment_expression left: (subscript_expression argument: (field_expression argument: (identifier) field: (field_identifier)) index: (identifier)) right: (identifier))))) (function_definition type: (primitive_type) declarator: (function_declarator declarator: (identifier) parameters: (parameter_list (parameter_declaration type: (type_identifier) declarator: (pointer_declarator declarator: (identifier))) (parameter_declaration type: (type_identifier) declarator: (identifier)) (parameter_declaration type: (type_identifier) declarator: (identifier)))) body: (compound_statement (expression_statement (assignment_expression left: (subscript_expression argument: (field_expression argument: (identifier) field: (field_identifier)) index: (identifier)) right: (identifier))))) (function_definition type: (type_identifier) declarator: (function_declarator declarator: (identifier) parameters: (parameter_list (parameter_declaration type: (type_identifier) declarator: (pointer_declarator declarator: (identifier))) (parameter_declaration type: (type_identifier) declarator: (identifier)))) body: (compound_statement (return_statement (subscript_expression argument: (field_expression argument: (identifier) field: (field_identifier)) index: (identifier))))) (function_definition type: (type_identifier) declarator: (function_declarator declarator: (identifier) parameters: (parameter_list (parameter_declaration type: (type_identifier) declarator: (pointer_declarator declarator: (identifier))) (parameter_declaration type: (type_identifier) declarator: (identifier)))) body: (compound_statement (return_statement (subscript_expression argument: (field_expression argument: (identifier) field: (field_identifier)) index: (identifier))))) (function_definition type: (type_identifier) declarator: (pointer_declarator declarator: (function_declarator declarator: (identifier) parameters: (parameter_list (parameter_declaration (type_qualifier) type: (type_identifier) declarator: (pointer_declarator declarator: (identifier)))))) body: (compound_statement (return_statement (field_expression argument: (identifier) field: (field_identifier))))) (function_definition type: (type_identifier) declarator: (pointer_declarator declarator: (function_declarator declarator: (identifier) parameters: (parameter_list (parameter_declaration (type_qualifier) type: (type_identifier) declarator: (pointer_declarator declarator: (identifier)))))) body: (compound_statement (return_statement (field_expression argument: (identifier) field: (field_identifier))))) (comment) (function_definition type: (primitive_type) declarator: (function_declarator declarator: (identifier) parameters: (parameter_list (parameter_declaration (type_qualifier) type: (type_identifier) declarator: (pointer_declarator declarator: (identifier))))) body: (compound_statement (declaration type: (type_identifier) declarator: (identifier)) (expression_statement (call_expression function: (identifier) arguments: (argument_list (string_literal)))) (for_statement initializer: (assignment_expression left: (identifier) right: (number_literal)) condition: (binary_expression left: (identifier) right: (field_expression argument: (identifier) field: (field_identifier))) update: (update_expression argument: (identifier)) body: (compound_statement (expression_statement (call_expression function: (identifier) arguments: (argument_list (ERROR (identifier)) (string_literal) (subscript_expression argument: (field_expression argument: (identifier) field: (field_identifier)) index: (identifier))))))) (expression_statement (call_expression function: (identifier) arguments: (argument_list (string_literal)))) (expression_statement (call_expression function: (identifier) arguments: (argument_list (string_literal)))) (for_statement initializer: (assignment_expression left: (identifier) right: (number_literal)) condition: (binary_expression left: (identifier) right: (field_expression argument: (identifier) field: (field_identifier))) update: (update_expression argument: (identifier)) body: (compound_statement (expression_statement (call_expression function: (identifier) arguments: (argument_list (ERROR (identifier)) (string_literal) (subscript_expression argument: (field_expression argument: (identifier) field: (field_identifier)) index: (identifier))))))) (expression_statement (call_expression function: (identifier) arguments: (argument_list (string_literal)))))) (function_definition type: (primitive_type) declarator: (function_declarator declarator: (identifier) parameters: (parameter_list (parameter_declaration (type_qualifier) type: (type_identifier) declarator: (pointer_declarator declarator: (identifier))) (parameter_declaration type: (type_identifier) declarator: (pointer_declarator declarator: (identifier))))) body: (compound_statement (if_statement condition: (condition_clause value: (binary_expression left: (field_expression argument: (identifier) field: (field_identifier)) right: (field_expression argument: (identifier) field: (field_identifier)))) consequence: (compound_statement (expression_statement (call_expression function: (identifier) arguments: (argument_list (string_literal) (field_expression argument: (identifier) field: (field_identifier)) (field_expression argument: (identifier) field: (field_identifier))))) (return_statement))) (preproc_if condition: (preproc_defined (identifier)) (expression_statement (call_expression function: (identifier) arguments: (argument_list (field_expression argument: (identifier) field: (field_identifier)) (field_expression argument: (identifier) field: (field_identifier)) (cast_expression type: (type_descriptor type: (primitive_type)) value: (field_expression argument: (identifier) field: (field_identifier)))))) (expression_statement (call_expression function: (identifier) arguments: (argument_list (field_expression argument: (identifier) field: (field_identifier)) (field_expression argument: (identifier) field: (field_identifier)) (cast_expression type: (type_descriptor type: (primitive_type)) value: (field_expression argument: (identifier) field: (field_identifier)))))) alternative: (preproc_elif condition: (preproc_defined (identifier)) (expression_statement (call_expression function: (identifier) arguments: (argument_list (field_expression argument: (identifier) field: (field_identifier)) (field_expression argument: (identifier) field: (field_identifier)) (binary_expression left: (field_expression argument: (identifier) field: (field_identifier)) right: (sizeof_expression value: (parenthesized_expression (identifier))))))) (expression_statement (call_expression function: (identifier) arguments: (argument_list (field_expression argument: (identifier) field: (field_identifier)) (field_expression argument: (identifier) field: (field_identifier)) (binary_expression left: (field_expression argument: (identifier) field: (field_identifier)) right: (sizeof_expression value: (parenthesized_expression (identifier))))))) alternative: (preproc_else (declaration type: (type_identifier) declarator: (identifier)) (for_statement initializer: (assignment_expression left: (identifier) right: (number_literal)) condition: (binary_expression left: (identifier) right: (field_expression argument: (identifier) field: (field_identifier))) update: (update_expression argument: (identifier)) body: (compound_statement (expression_statement (assignment_expression left: (subscript_expression argument: (field_expression argument: (identifier) field: (field_identifier)) index: (identifier)) right: (subscript_expression argument: (field_expression argument: (identifier) field: (field_identifier)) index: (identifier)))) (expression_statement (assignment_expression left: (subscript_expression argument: (field_expression argument: (identifier) field: (field_identifier)) index: (identifier)) right: (subscript_expression argument: (field_expression argument: (identifier) field: (field_identifier)) index: (identifier))))))))))) (function_definition type: (primitive_type) declarator: (function_declarator declarator: (identifier) parameters: (parameter_list (parameter_declaration type: (type_identifier) declarator: (pointer_declarator declarator: (identifier))) (parameter_declaration type: (type_identifier) declarator: (identifier)))) body: (compound_statement (preproc_if condition: (preproc_defined (identifier)) (expression_statement (call_expression function: (identifier) arguments: (argument_list (identifier) (field_expression argument: (identifier) field: (field_identifier)) (cast_expression type: (type_descriptor type: (primitive_type)) value: (field_expression argument: (identifier) field: (field_identifier)))))) alternative: (preproc_else (declaration type: (type_identifier) declarator: (identifier)) (for_statement initializer: (assignment_expression left: (identifier) right: (number_literal)) condition: (binary_expression left: (identifier) right: (field_expression argument: (identifier) field: (field_identifier))) update: (update_expression argument: (identifier)) body: (compound_statement (expression_statement (assignment_expression left: (subscript_expression argument: (field_expression argument: (identifier) field: (field_identifier)) index: (identifier)) right: (identifier))))))))) (function_definition type: (primitive_type) declarator: (function_declarator declarator: (identifier) parameters: (parameter_list (parameter_declaration type: (type_identifier) declarator: (pointer_declarator declarator: (identifier))))) body: (compound_statement (preproc_if condition: (preproc_defined (identifier)) (expression_statement (call_expression function: (identifier) arguments: (argument_list (field_expression argument: (identifier) field: (field_identifier)) (cast_expression type: (type_descriptor type: (primitive_type)) value: (field_expression argument: (identifier) field: (field_identifier)))))) alternative: (preproc_elif condition: (preproc_defined (identifier)) (expression_statement (call_expression function: (identifier) arguments: (argument_list (field_expression argument: (identifier) field: (field_identifier)) (number_literal) (binary_expression left: (field_expression argument: (identifier) field: (field_identifier)) right: (sizeof_expression value: (parenthesized_expression (identifier))))))) alternative: (preproc_else (expression_statement (call_expression function: (identifier) arguments: (argument_list (identifier) (number_literal))))))))) (function_definition type: (primitive_type) declarator: (function_declarator declarator: (identifier) parameters: (parameter_list (parameter_declaration type: (type_identifier) declarator: (pointer_declarator declarator: (identifier))))) body: (compound_statement (expression_statement (call_expression function: (identifier) arguments: (argument_list (identifier) (number_literal)))))) (function_definition type: (primitive_type) declarator: (function_declarator declarator: (identifier) parameters: (parameter_list (parameter_declaration type: (type_identifier) declarator: (pointer_declarator declarator: (identifier))) (parameter_declaration type: (type_identifier) declarator: (identifier)))) body: (compound_statement (preproc_if condition: (preproc_defined (identifier)) (expression_statement (call_expression function: (identifier) arguments: (argument_list (identifier) (field_expression argument: (identifier) field: (field_identifier)) (cast_expression type: (type_descriptor type: (primitive_type)) value: (field_expression argument: (identifier) field: (field_identifier)))))) alternative: (preproc_else (declaration type: (type_identifier) declarator: (identifier)) (for_statement initializer: (assignment_expression left: (identifier) right: (number_literal)) condition: (binary_expression left: (identifier) right: (field_expression argument: (identifier) field: (field_identifier))) update: (update_expression argument: (identifier)) body: (compound_statement (expression_statement (assignment_expression left: (subscript_expression argument: (field_expression argument: (identifier) field: (field_identifier)) index: (identifier)) right: (identifier))))))))) (function_definition type: (primitive_type) declarator: (function_declarator declarator: (identifier) parameters: (parameter_list (parameter_declaration type: (type_identifier) declarator: (pointer_declarator declarator: (identifier))))) body: (compound_statement (preproc_if condition: (preproc_defined (identifier)) (expression_statement (call_expression function: (identifier) arguments: (argument_list (field_expression argument: (identifier) field: (field_identifier)) (cast_expression type: (type_descriptor type: (primitive_type)) value: (field_expression argument: (identifier) field: (field_identifier)))))) alternative: (preproc_elif condition: (preproc_defined (identifier)) (expression_statement (call_expression function: (identifier) arguments: (argument_list (field_expression argument: (identifier) field: (field_identifier)) (number_literal) (binary_expression left: (field_expression argument: (identifier) field: (field_identifier)) right: (sizeof_expression value: (parenthesized_expression (identifier))))))) alternative: (preproc_else (expression_statement (call_expression function: (identifier) arguments: (argument_list (identifier) (number_literal))))))))) (function_definition type: (primitive_type) declarator: (function_declarator declarator: (identifier) parameters: (parameter_list (parameter_declaration type: (type_identifier) declarator: (pointer_declarator declarator: (identifier))))) body: (compound_statement (expression_statement (call_expression function: (identifier) arguments: (argument_list (identifier) (number_literal)))))) (function_definition type: (primitive_type) declarator: (function_declarator declarator: (identifier) parameters: (parameter_list (parameter_declaration type: (type_identifier) declarator: (pointer_declarator declarator: (identifier))))) body: (compound_statement (expression_statement (call_expression function: (identifier) arguments: (argument_list (identifier)))) (expression_statement (call_expression function: (identifier) arguments: (argument_list (identifier)))))) (function_definition type: (primitive_type) declarator: (function_declarator declarator: (identifier) parameters: (parameter_list (parameter_declaration type: (type_identifier) declarator: (pointer_declarator declarator: (identifier))) (parameter_declaration type: (type_identifier) declarator: (identifier)))) body: (compound_statement (preproc_if condition: (preproc_defined (identifier)) (expression_statement (call_expression function: (identifier) arguments: (argument_list (field_expression argument: (identifier) field: (field_identifier)) (identifier) (field_expression argument: (identifier) field: (field_identifier)) (cast_expression type: (type_descriptor type: (primitive_type)) value: (field_expression argument: (identifier) field: (field_identifier)))))) (expression_statement (call_expression function: (identifier) arguments: (argument_list (field_expression argument: (identifier) field: (field_identifier)) (number_literal) (field_expression argument: (identifier) field: (field_identifier)) (cast_expression type: (type_descriptor type: (primitive_type)) value: (field_expression argument: (identifier) field: (field_identifier)))))) (expression_statement (call_expression function: (identifier) arguments: (argument_list (field_expression argument: (identifier) field: (field_identifier)) (field_expression argument: (identifier) field: (field_identifier)) (cast_expression type: (type_descriptor type: (primitive_type)) value: (field_expression argument: (identifier) field: (field_identifier)))))) alternative: (preproc_else (declaration type: (type_identifier) declarator: (identifier)) (for_statement initializer: (assignment_expression left: (identifier) right: (number_literal)) condition: (binary_expression left: (identifier) right: (field_expression argument: (identifier) field: (field_identifier))) update: (update_expression argument: (identifier)) body: (compound_statement (expression_statement (assignment_expression left: (subscript_expression argument: (field_expression argument: (identifier) field: (field_identifier)) index: (identifier)) right: (call_expression function: (identifier) arguments: (argument_list (binary_expression left: (binary_expression left: (identifier) right: (subscript_expression argument: (field_expression argument: (identifier) field: (field_identifier)) index: (identifier))) right: (number_literal)))))))))))))'"
     },
     "execution_count": 52,
     "metadata": {},
     "output_type": "execute_result"
    }
   ],
   "source": [
    "CPP_LANGUAGE = Language('/home/sasce/PycharmProjects/AutoFL/notebooks/test/languages.so', 'cpp')\n",
    "parser = Parser()\n",
    "parser.set_language(CPP_LANGUAGE)\n",
    "code = bytes(code, \"utf8\")\n",
    "tree = parser.parse(code)\n",
    "tree.root_node.sexp()"
   ],
   "metadata": {
    "collapsed": false,
    "ExecuteTime": {
     "end_time": "2023-06-27T13:59:26.565564276Z",
     "start_time": "2023-06-27T13:59:26.551715064Z"
    }
   }
  },
  {
   "cell_type": "code",
   "execution_count": 53,
   "outputs": [
    {
     "name": "stdout",
     "output_type": "stream",
     "text": [
      "260\n",
      "['cvec_t', 'new_cvec', 'uint_t', 'length', 'cvec_t', 's', 'sint_t', 'length', 's', 'AUBIO_NEW', 'cvec_t', 's', 'length', 's', 'AUBIO_ARRAY', 'smpl_t', 's', 's', 'AUBIO_ARRAY', 'smpl_t', 's', 's', 'del_cvec', 'cvec_t', 's', 'AUBIO_FREE', 's', 'AUBIO_FREE', 's', 'AUBIO_FREE', 's', 'cvec_norm_set_sample', 'cvec_t', 's', 'smpl_t', 'data', 'uint_t', 'position', 's', 'position', 'data', 'cvec_phas_set_sample', 'cvec_t', 's', 'smpl_t', 'data', 'uint_t', 'position', 's', 'position', 'data', 'smpl_t', 'cvec_norm_get_sample', 'cvec_t', 's', 'uint_t', 'position', 's', 'position', 'smpl_t', 'cvec_phas_get_sample', 'cvec_t', 's', 'uint_t', 'position', 's', 'position', 'smpl_t', 'cvec_norm_get_data', 'cvec_t', 's', 's', 'smpl_t', 'cvec_phas_get_data', 'cvec_t', 's', 's', 'cvec_print', 'cvec_t', 's', 'uint_t', 'j', 'AUBIO_MSG', 'j', 'j', 's', 'j', 'AUBIO_MSG', 'AUBIO_SMPL_FMT', 's', 'j', 'AUBIO_MSG', 'AUBIO_MSG', 'j', 'j', 's', 'j', 'AUBIO_MSG', 'AUBIO_SMPL_FMT', 's', 'j', 'AUBIO_MSG', 'cvec_copy', 'cvec_t', 's', 'cvec_t', 't', 's', 't', 'AUBIO_ERR', 's', 't', 'HAVE_INTEL_IPP', 'aubio_ippsCopy', 's', 't', 's', 'aubio_ippsCopy', 's', 't', 's', 'HAVE_MEMCPY_HACKS', 'memcpy', 't', 's', 't', 'smpl_t', 'memcpy', 't', 's', 't', 'smpl_t', 'uint_t', 'j', 'j', 'j', 't', 'j', 't', 'j', 's', 'j', 't', 'j', 's', 'j', 'cvec_norm_set_all', 'cvec_t', 's', 'smpl_t', 'val', 'HAVE_INTEL_IPP', 'aubio_ippsSet', 'val', 's', 's', 'uint_t', 'j', 'j', 'j', 's', 'j', 's', 'j', 'val', 'cvec_norm_zeros', 'cvec_t', 's', 'HAVE_INTEL_IPP', 'aubio_ippsZero', 's', 's', 'HAVE_MEMCPY_HACKS', 'memset', 's', 's', 'smpl_t', 'cvec_norm_set_all', 's', 'cvec_norm_ones', 'cvec_t', 's', 'cvec_norm_set_all', 's', 'cvec_phas_set_all', 'cvec_t', 's', 'smpl_t', 'val', 'HAVE_INTEL_IPP', 'aubio_ippsSet', 'val', 's', 's', 'uint_t', 'j', 'j', 'j', 's', 'j', 's', 'j', 'val', 'cvec_phas_zeros', 'cvec_t', 's', 'HAVE_INTEL_IPP', 'aubio_ippsZero', 's', 's', 'HAVE_MEMCPY_HACKS', 'memset', 's', 's', 'smpl_t', 'cvec_phas_set_all', 's', 'cvec_phas_ones', 'cvec_t', 's', 'cvec_phas_set_all', 's', 'cvec_zeros', 'cvec_t', 's', 'cvec_norm_zeros', 's', 'cvec_phas_zeros', 's', 'cvec_logmag', 'cvec_t', 's', 'smpl_t', 'lambda', 'HAVE_INTEL_IPP', 'aubio_ippsMulC', 's', 'lambda', 's', 's', 'aubio_ippsAddC', 's', 's', 's', 'aubio_ippsLn', 's', 's', 's', 'uint_t', 'j', 'j', 'j', 's', 'j', 's', 'j', 'LOG', 'lambda', 's', 'j']\n"
     ]
    }
   ],
   "source": [
    "query = CPP_LANGUAGE.query(\"\"\"\n",
    "    ((identifier) @identifier)\n",
    "    ((type_identifier) @type)\n",
    "   \"\"\")\n",
    "captures_b = query.captures(tree.root_node)\n",
    "print(len(captures_b))\n",
    "res = []\n",
    "for node, _ in captures_b:\n",
    "    token = code[node.start_byte:node.end_byte]\n",
    "    res.append(token.decode())\n",
    "print(res)"
   ],
   "metadata": {
    "collapsed": false,
    "ExecuteTime": {
     "end_time": "2023-06-27T13:59:33.205471321Z",
     "start_time": "2023-06-27T13:59:33.202004499Z"
    }
   }
  },
  {
   "cell_type": "code",
   "execution_count": null,
   "outputs": [],
   "source": [
    "code = \"\"\"﻿// Copyright (c) Josef Pihrt and Contributors. Licensed under the Apache License, Version 2.0. See License.txt in the project root for license information.\n",
    "\n",
    "using System.Collections.Generic;\n",
    "using System.Collections.Immutable;\n",
    "using System.Diagnostics;\n",
    "using System.Linq;\n",
    "using System.Threading;\n",
    "using Microsoft.CodeAnalysis;\n",
    "using Microsoft.CodeAnalysis.CSharp;\n",
    "using Microsoft.CodeAnalysis.CSharp.Syntax;\n",
    "\n",
    "namespace Roslynator.CSharp;\n",
    "\n",
    "internal static class DetermineParameterTypeHelper\n",
    "{\n",
    "    public static ImmutableArray<ITypeSymbol> DetermineParameterTypes(\n",
    "        ArgumentSyntax argument,\n",
    "        SemanticModel semanticModel,\n",
    "        CancellationToken cancellationToken = default)\n",
    "    {\n",
    "        if (argument.Parent is BaseArgumentListSyntax argumentList)\n",
    "        {\n",
    "            SyntaxNode parent = argumentList.Parent;\n",
    "\n",
    "            if (parent is not null)\n",
    "            {\n",
    "                SymbolInfo symbolInfo = GetSymbolInfo(parent, semanticModel, cancellationToken);\n",
    "\n",
    "                ISymbol symbol = symbolInfo.Symbol;\n",
    "\n",
    "                if (symbol is not null)\n",
    "                {\n",
    "                    ITypeSymbol typeSymbol = DetermineParameterType(symbol, argument, argumentList);\n",
    "\n",
    "                    if (typeSymbol?.IsErrorType() == false)\n",
    "                        return ImmutableArray.Create(typeSymbol);\n",
    "                }\n",
    "                else\n",
    "                {\n",
    "                    HashSet<ITypeSymbol> typeSymbols = null;\n",
    "\n",
    "                    foreach (ISymbol candidateSymbol in symbolInfo.CandidateSymbols)\n",
    "                    {\n",
    "                        ITypeSymbol typeSymbol = DetermineParameterType(candidateSymbol, argument, argumentList);\n",
    "\n",
    "                        if (typeSymbol?.IsErrorType() == false)\n",
    "                        {\n",
    "                            (typeSymbols ??= new HashSet<ITypeSymbol>()).Add(typeSymbol);\n",
    "                        }\n",
    "                    }\n",
    "\n",
    "                    if (typeSymbols is not null)\n",
    "                        return typeSymbols.ToImmutableArray();\n",
    "                }\n",
    "            }\n",
    "        }\n",
    "\n",
    "        return ImmutableArray<ITypeSymbol>.Empty;\n",
    "    }\n",
    "\n",
    "    private static SymbolInfo GetSymbolInfo(SyntaxNode node, SemanticModel semanticModel, CancellationToken cancellationToken)\n",
    "    {\n",
    "        if (node is ExpressionSyntax expression)\n",
    "            return semanticModel.GetSymbolInfo(expression, cancellationToken);\n",
    "\n",
    "        if (node is ConstructorInitializerSyntax constructorInitializer)\n",
    "            return semanticModel.GetSymbolInfo(constructorInitializer, cancellationToken);\n",
    "\n",
    "        return default;\n",
    "    }\n",
    "\n",
    "    private static ITypeSymbol DetermineParameterType(\n",
    "        ISymbol symbol,\n",
    "        ArgumentSyntax argument,\n",
    "        BaseArgumentListSyntax argumentList)\n",
    "    {\n",
    "        IParameterSymbol parameterSymbol = DetermineParameterSymbol(symbol, argument, argumentList);\n",
    "\n",
    "        if (parameterSymbol is null)\n",
    "            return null;\n",
    "\n",
    "        RefKind refKind = parameterSymbol.RefKind;\n",
    "\n",
    "        if (refKind == RefKind.Out)\n",
    "        {\n",
    "            if (!argument.RefOrOutKeyword.IsKind(SyntaxKind.OutKeyword))\n",
    "                return null;\n",
    "        }\n",
    "        else if (refKind == RefKind.Ref)\n",
    "        {\n",
    "            if (!argument.RefOrOutKeyword.IsKind(SyntaxKind.RefKeyword))\n",
    "                return null;\n",
    "        }\n",
    "\n",
    "        ITypeSymbol typeSymbol = parameterSymbol.Type;\n",
    "\n",
    "        if (parameterSymbol.IsParams\n",
    "            && typeSymbol is IArrayTypeSymbol arrayType)\n",
    "        {\n",
    "            return arrayType.ElementType;\n",
    "        }\n",
    "\n",
    "        return typeSymbol;\n",
    "    }\n",
    "\n",
    "    private static IParameterSymbol DetermineParameterSymbol(\n",
    "        ISymbol symbol,\n",
    "        ArgumentSyntax argument,\n",
    "        BaseArgumentListSyntax argumentList)\n",
    "    {\n",
    "        ImmutableArray<IParameterSymbol> parameters = symbol.ParametersOrDefault();\n",
    "\n",
    "        Debug.Assert(!parameters.IsDefault, symbol.Kind.ToString());\n",
    "\n",
    "        if (parameters.IsDefault)\n",
    "            return null;\n",
    "\n",
    "        string name = argument.NameColon?.Name?.Identifier.ValueText;\n",
    "\n",
    "        if (name is not null)\n",
    "            return parameters.FirstOrDefault(f => f.Name == name);\n",
    "\n",
    "        int index = argumentList.Arguments.IndexOf(argument);\n",
    "\n",
    "        if (index >= 0\n",
    "            && index < parameters.Length)\n",
    "        {\n",
    "            return parameters[index];\n",
    "        }\n",
    "\n",
    "        IParameterSymbol lastParameter = parameters.LastOrDefault();\n",
    "\n",
    "        if (lastParameter?.IsParams == true)\n",
    "            return lastParameter;\n",
    "\n",
    "        return null;\n",
    "    }\n",
    "\"\"\""
   ],
   "metadata": {
    "collapsed": false
   }
  },
  {
   "cell_type": "code",
   "execution_count": null,
   "outputs": [],
   "source": [
    "CSHARP_LANGUAGE = Language('/home/sasce/PycharmProjects/AutoFL/notebooks/test/languages.so', 'c_sharp')\n",
    "parser = Parser()\n",
    "parser.set_language(CSHARP_LANGUAGE)\n",
    "code = bytes(code, \"utf8\")\n",
    "tree = parser.parse(code)\n",
    "tree.root_node.sexp()"
   ],
   "metadata": {
    "collapsed": false
   }
  },
  {
   "cell_type": "code",
   "execution_count": null,
   "outputs": [],
   "source": [
    "query = CSHARP_LANGUAGE.query(\"\"\"\n",
    "    ((identifier) @identifier)\n",
    "   \"\"\")\n",
    "captures_b = query.captures(tree.root_node)\n",
    "print(len(captures_b))\n",
    "res = []\n",
    "for node, _ in captures_b:\n",
    "    token = code[node.start_byte:node.end_byte]\n",
    "    res.append(token.decode())\n",
    "print(res)"
   ],
   "metadata": {
    "collapsed": false
   }
  },
  {
   "cell_type": "code",
   "execution_count": null,
   "outputs": [],
   "source": [],
   "metadata": {
    "collapsed": false
   }
  }
 ],
 "metadata": {
  "kernelspec": {
   "display_name": "Python 3",
   "language": "python",
   "name": "python3"
  },
  "language_info": {
   "codemirror_mode": {
    "name": "ipython",
    "version": 2
   },
   "file_extension": ".py",
   "mimetype": "text/x-python",
   "name": "python",
   "nbconvert_exporter": "python",
   "pygments_lexer": "ipython2",
   "version": "2.7.6"
  }
 },
 "nbformat": 4,
 "nbformat_minor": 0
}
