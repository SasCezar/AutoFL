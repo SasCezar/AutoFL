{
 "cells": [
  {
   "cell_type": "code",
   "execution_count": 36,
   "metadata": {
    "collapsed": true,
    "ExecuteTime": {
     "end_time": "2023-06-26T07:27:23.851468076Z",
     "start_time": "2023-06-26T07:27:23.805879702Z"
    }
   },
   "outputs": [],
   "source": [
    "from tree_sitter import Language, Parser"
   ]
  },
  {
   "cell_type": "code",
   "execution_count": 66,
   "outputs": [
    {
     "data": {
      "text/plain": "False"
     },
     "execution_count": 66,
     "metadata": {},
     "output_type": "execute_result"
    }
   ],
   "source": [
    "\n",
    "Language.build_library(\n",
    "    # Store the library in the `build` directory\n",
    "    'my-languages.so',\n",
    "\n",
    "    # Include one or more languages\n",
    "    [\n",
    "        '/home/sasce/PycharmProjects/AutoFL/data/grammars/tree-sitter-java',\n",
    "        '/home/sasce/PycharmProjects/AutoFL/data/grammars/tree-sitter-python'\n",
    "    ]\n",
    ")"
   ],
   "metadata": {
    "collapsed": false,
    "ExecuteTime": {
     "end_time": "2023-06-25T10:10:30.564745761Z",
     "start_time": "2023-06-25T10:10:30.557452422Z"
    }
   }
  },
  {
   "cell_type": "code",
   "execution_count": 37,
   "outputs": [],
   "source": [
    "JAVA_LANGUAGE = Language('/home/sasce/PycharmProjects/AutoFL/notebooks/test/my-languages.so', 'java')"
   ],
   "metadata": {
    "collapsed": false,
    "ExecuteTime": {
     "end_time": "2023-06-26T07:27:26.678726029Z",
     "start_time": "2023-06-26T07:27:26.672462078Z"
    }
   }
  },
  {
   "cell_type": "code",
   "execution_count": 38,
   "outputs": [],
   "source": [
    "parser = Parser()\n",
    "parser.set_language(JAVA_LANGUAGE)"
   ],
   "metadata": {
    "collapsed": false,
    "ExecuteTime": {
     "end_time": "2023-06-26T07:27:26.997511779Z",
     "start_time": "2023-06-26T07:27:26.987241436Z"
    }
   }
  },
  {
   "cell_type": "code",
   "execution_count": 39,
   "outputs": [],
   "source": [
    "code = \"\"\"\n",
    "class Lamp {\n",
    "\n",
    "  // stores the value for light\n",
    "  // true if light is on\n",
    "  // false if light is off\n",
    "  boolean isOn;\n",
    "\n",
    "  // method to turn on the light\n",
    "  void turnOn() {\n",
    "    isOn = true;\n",
    "    System.out.println(\"Light on? \" + isOn);\n",
    "\n",
    "  }\n",
    "\n",
    "  // method to turnoff the light\n",
    "  void turnOff() {\n",
    "    isOn = false;\n",
    "    System.out.println(\"Light on? \" + isOn);\n",
    "  }\n",
    "}\n",
    "\n",
    "class Main {\n",
    "  public static void main(String[] args) {\n",
    "\n",
    "    // create objects led and halogen\n",
    "    Lamp led = new Lamp();\n",
    "    Lamp halogen = new Lamp();\n",
    "\n",
    "    // turn on the light by\n",
    "    // calling method turnOn()\n",
    "    led.turnOn();\n",
    "\n",
    "    // turn off the light by\n",
    "    // calling method turnOff()\n",
    "    halogen.turnOff();\n",
    "  }\n",
    "}\n",
    "\"\"\""
   ],
   "metadata": {
    "collapsed": false,
    "ExecuteTime": {
     "end_time": "2023-06-26T07:27:27.318348066Z",
     "start_time": "2023-06-26T07:27:27.310184691Z"
    }
   }
  },
  {
   "cell_type": "code",
   "execution_count": 40,
   "outputs": [],
   "source": [
    "code = bytes(code, \"utf8\")\n",
    "tree = parser.parse(code)"
   ],
   "metadata": {
    "collapsed": false,
    "ExecuteTime": {
     "end_time": "2023-06-26T07:27:27.774177325Z",
     "start_time": "2023-06-26T07:27:27.769385927Z"
    }
   }
  },
  {
   "cell_type": "code",
   "execution_count": 41,
   "outputs": [
    {
     "data": {
      "text/plain": "'(program (class_declaration name: (identifier) body: (class_body (line_comment) (line_comment) (line_comment) (field_declaration type: (boolean_type) declarator: (variable_declarator name: (identifier))) (line_comment) (method_declaration type: (void_type) name: (identifier) parameters: (formal_parameters) body: (block (expression_statement (assignment_expression left: (identifier) right: (true))) (expression_statement (method_invocation object: (field_access object: (identifier) field: (identifier)) name: (identifier) arguments: (argument_list (binary_expression left: (string_literal (string_fragment)) right: (identifier))))))) (line_comment) (method_declaration type: (void_type) name: (identifier) parameters: (formal_parameters) body: (block (expression_statement (assignment_expression left: (identifier) right: (false))) (expression_statement (method_invocation object: (field_access object: (identifier) field: (identifier)) name: (identifier) arguments: (argument_list (binary_expression left: (string_literal (string_fragment)) right: (identifier))))))))) (class_declaration name: (identifier) body: (class_body (method_declaration (modifiers) type: (void_type) name: (identifier) parameters: (formal_parameters (formal_parameter type: (array_type element: (type_identifier) dimensions: (dimensions)) name: (identifier))) body: (block (line_comment) (local_variable_declaration type: (type_identifier) declarator: (variable_declarator name: (identifier) value: (object_creation_expression type: (type_identifier) arguments: (argument_list)))) (local_variable_declaration type: (type_identifier) declarator: (variable_declarator name: (identifier) value: (object_creation_expression type: (type_identifier) arguments: (argument_list)))) (line_comment) (line_comment) (expression_statement (method_invocation object: (identifier) name: (identifier) arguments: (argument_list))) (line_comment) (line_comment) (expression_statement (method_invocation object: (identifier) name: (identifier) arguments: (argument_list))))))))'"
     },
     "execution_count": 41,
     "metadata": {},
     "output_type": "execute_result"
    }
   ],
   "source": [
    "tree.root_node.sexp()"
   ],
   "metadata": {
    "collapsed": false,
    "ExecuteTime": {
     "end_time": "2023-06-26T07:27:28.126660090Z",
     "start_time": "2023-06-26T07:27:28.119561436Z"
    }
   }
  },
  {
   "cell_type": "code",
   "execution_count": 42,
   "outputs": [
    {
     "name": "stdout",
     "output_type": "stream",
     "text": [
      "0\n"
     ]
    }
   ],
   "source": [
    "query = JAVA_LANGUAGE.query(\"\"\"(scoped_identifier scope: (identifier) @identifier.def)\"\"\")\n",
    "captures_a = query.captures(tree.root_node)\n",
    "print(len(captures_a))"
   ],
   "metadata": {
    "collapsed": false,
    "ExecuteTime": {
     "end_time": "2023-06-26T07:27:29.165802356Z",
     "start_time": "2023-06-26T07:27:29.159766843Z"
    }
   }
  },
  {
   "cell_type": "code",
   "execution_count": 43,
   "outputs": [
    {
     "name": "stdout",
     "output_type": "stream",
     "text": [
      "28\n"
     ]
    }
   ],
   "source": [
    "query = JAVA_LANGUAGE.query(\"\"\"\n",
    "    ((identifier) @identifier)\n",
    "    ((type_identifier) @type)\"\"\")\n",
    "captures_b = query.captures(tree.root_node)\n",
    "print(len(captures_b))"
   ],
   "metadata": {
    "collapsed": false,
    "ExecuteTime": {
     "end_time": "2023-06-26T07:27:29.667899262Z",
     "start_time": "2023-06-26T07:27:29.660190898Z"
    }
   }
  },
  {
   "cell_type": "code",
   "execution_count": 44,
   "outputs": [],
   "source": [
    "res = []\n",
    "for node, _ in captures_b:\n",
    "    token = code[node.start_byte:node.end_byte]\n",
    "    res.append(token.decode())"
   ],
   "metadata": {
    "collapsed": false,
    "ExecuteTime": {
     "end_time": "2023-06-26T07:27:30.600773499Z",
     "start_time": "2023-06-26T07:27:30.591037290Z"
    }
   }
  },
  {
   "cell_type": "code",
   "execution_count": 45,
   "outputs": [
    {
     "name": "stdout",
     "output_type": "stream",
     "text": [
      "['Lamp', 'isOn', 'turnOn', 'isOn', 'System', 'out', 'println', 'isOn', 'turnOff', 'isOn', 'System', 'out', 'println', 'isOn', 'Main', 'main', 'String', 'args', 'Lamp', 'led', 'Lamp', 'Lamp', 'halogen', 'Lamp', 'led', 'turnOn', 'halogen', 'turnOff']\n"
     ]
    }
   ],
   "source": [
    "print(res)"
   ],
   "metadata": {
    "collapsed": false,
    "ExecuteTime": {
     "end_time": "2023-06-26T07:27:31.093598235Z",
     "start_time": "2023-06-26T07:27:31.088525681Z"
    }
   }
  },
  {
   "cell_type": "code",
   "execution_count": 46,
   "outputs": [],
   "source": [
    "PYTHON_LANGUAGE = Language('/home/sasce/PycharmProjects/AutoFL/notebooks/test/my-languages.so', 'python')\n",
    "parser = Parser()\n",
    "parser.set_language(PYTHON_LANGUAGE)"
   ],
   "metadata": {
    "collapsed": false,
    "ExecuteTime": {
     "end_time": "2023-06-26T07:27:32.408117892Z",
     "start_time": "2023-06-26T07:27:32.401532819Z"
    }
   }
  },
  {
   "cell_type": "code",
   "execution_count": 47,
   "outputs": [],
   "source": [
    "code = \"\"\"\n",
    "from collections import Counter\n",
    "import numpy as np\n",
    "from multiset import Multiset\n",
    "from entity.taxonomy import KeywordLabel\n",
    "from annotation import LFBase\n",
    "\n",
    "\n",
    "class KeywordLF(LFBase):\n",
    "\n",
    "    def annotate(self, name: str, content: str) -> np.array:\n",
    "        node_labels = np.zeros(len(self.taxonomy))\n",
    "        for _label in self.taxonomy:\n",
    "            label: KeywordLabel = _label\n",
    "            intersection = list(label.keywords.intersection(Multiset(content.split())))\n",
    "            intersection = Counter(intersection)\n",
    "            node_labels[label.index] = sum([intersection[k] * label.weights[k]\n",
    "                                            for k in intersection.keys()])\n",
    "\n",
    "        norm = np.sum(node_labels)\n",
    "        node_vec = node_labels / norm if norm > 0 else np.zeros(len(self.taxonomy))\n",
    "\n",
    "        return node_vec\n",
    "\"\"\""
   ],
   "metadata": {
    "collapsed": false,
    "ExecuteTime": {
     "end_time": "2023-06-26T07:27:33.042849914Z",
     "start_time": "2023-06-26T07:27:33.036631319Z"
    }
   }
  },
  {
   "cell_type": "code",
   "execution_count": 48,
   "outputs": [],
   "source": [
    "code = bytes(code, \"utf8\")\n",
    "tree = parser.parse(code)"
   ],
   "metadata": {
    "collapsed": false,
    "ExecuteTime": {
     "end_time": "2023-06-26T07:27:33.998874459Z",
     "start_time": "2023-06-26T07:27:33.993600952Z"
    }
   }
  },
  {
   "cell_type": "code",
   "execution_count": 49,
   "outputs": [
    {
     "data": {
      "text/plain": "'(module (import_from_statement module_name: (dotted_name (identifier)) name: (dotted_name (identifier))) (import_statement name: (aliased_import name: (dotted_name (identifier)) alias: (identifier))) (import_from_statement module_name: (dotted_name (identifier)) name: (dotted_name (identifier))) (import_from_statement module_name: (dotted_name (identifier) (identifier)) name: (dotted_name (identifier))) (import_from_statement module_name: (dotted_name (identifier)) name: (dotted_name (identifier))) (class_definition name: (identifier) superclasses: (argument_list (identifier)) body: (block (function_definition name: (identifier) parameters: (parameters (identifier) (typed_parameter (identifier) type: (type (identifier))) (typed_parameter (identifier) type: (type (identifier)))) return_type: (type (attribute object: (identifier) attribute: (identifier))) body: (block (expression_statement (assignment left: (identifier) right: (call function: (attribute object: (identifier) attribute: (identifier)) arguments: (argument_list (call function: (identifier) arguments: (argument_list (attribute object: (identifier) attribute: (identifier)))))))) (for_statement left: (identifier) right: (attribute object: (identifier) attribute: (identifier)) body: (block (expression_statement (assignment left: (identifier) type: (type (identifier)) right: (identifier))) (expression_statement (assignment left: (identifier) right: (call function: (identifier) arguments: (argument_list (call function: (attribute object: (attribute object: (identifier) attribute: (identifier)) attribute: (identifier)) arguments: (argument_list (call function: (identifier) arguments: (argument_list (call function: (attribute object: (identifier) attribute: (identifier)) arguments: (argument_list)))))))))) (expression_statement (assignment left: (identifier) right: (call function: (identifier) arguments: (argument_list (identifier))))) (expression_statement (assignment left: (subscript value: (identifier) subscript: (attribute object: (identifier) attribute: (identifier))) right: (call function: (identifier) arguments: (argument_list (list_comprehension body: (binary_operator left: (subscript value: (identifier) subscript: (identifier)) right: (subscript value: (attribute object: (identifier) attribute: (identifier)) subscript: (identifier))) (for_in_clause left: (identifier) right: (call function: (attribute object: (identifier) attribute: (identifier)) arguments: (argument_list)))))))))) (expression_statement (assignment left: (identifier) right: (call function: (attribute object: (identifier) attribute: (identifier)) arguments: (argument_list (identifier))))) (expression_statement (assignment left: (identifier) right: (conditional_expression (binary_operator left: (identifier) right: (identifier)) (comparison_operator (identifier) (integer)) (call function: (attribute object: (identifier) attribute: (identifier)) arguments: (argument_list (call function: (identifier) arguments: (argument_list (attribute object: (identifier) attribute: (identifier))))))))) (return_statement (identifier)))))))'"
     },
     "execution_count": 49,
     "metadata": {},
     "output_type": "execute_result"
    }
   ],
   "source": [
    "tree.root_node.sexp()"
   ],
   "metadata": {
    "collapsed": false,
    "ExecuteTime": {
     "end_time": "2023-06-26T07:27:35.068602868Z",
     "start_time": "2023-06-26T07:27:35.057619504Z"
    }
   }
  },
  {
   "cell_type": "code",
   "execution_count": 50,
   "outputs": [
    {
     "ename": "NameError",
     "evalue": "Invalid node type type_identifier",
     "output_type": "error",
     "traceback": [
      "\u001B[0;31m---------------------------------------------------------------------------\u001B[0m",
      "\u001B[0;31mNameError\u001B[0m                                 Traceback (most recent call last)",
      "Cell \u001B[0;32mIn[50], line 1\u001B[0m\n\u001B[0;32m----> 1\u001B[0m query \u001B[38;5;241m=\u001B[39m \u001B[43mPYTHON_LANGUAGE\u001B[49m\u001B[38;5;241;43m.\u001B[39;49m\u001B[43mquery\u001B[49m\u001B[43m(\u001B[49m\u001B[38;5;124;43m\"\"\"\u001B[39;49m\n\u001B[1;32m      2\u001B[0m \u001B[38;5;124;43m    ((identifier) @identifier)\u001B[39;49m\n\u001B[1;32m      3\u001B[0m \u001B[38;5;124;43m    ((type_identifier) @type)\u001B[39;49m\n\u001B[1;32m      4\u001B[0m \u001B[38;5;124;43m   \u001B[39;49m\u001B[38;5;124;43m\"\"\"\u001B[39;49m\u001B[43m)\u001B[49m\n\u001B[1;32m      5\u001B[0m captures_b \u001B[38;5;241m=\u001B[39m query\u001B[38;5;241m.\u001B[39mcaptures(tree\u001B[38;5;241m.\u001B[39mroot_node)\n\u001B[1;32m      6\u001B[0m \u001B[38;5;28mprint\u001B[39m(\u001B[38;5;28mlen\u001B[39m(captures_b))\n",
      "File \u001B[0;32m~/.cache/pypoetry/virtualenvs/autofl-FDpKV8AV-py3.10/lib/python3.10/site-packages/tree_sitter/__init__.py:93\u001B[0m, in \u001B[0;36mLanguage.query\u001B[0;34m(self, source)\u001B[0m\n\u001B[1;32m     91\u001B[0m \u001B[38;5;28;01mdef\u001B[39;00m \u001B[38;5;21mquery\u001B[39m(\u001B[38;5;28mself\u001B[39m, source):\n\u001B[1;32m     92\u001B[0m \u001B[38;5;250m    \u001B[39m\u001B[38;5;124;03m\"\"\"Create a Query with the given source code.\"\"\"\u001B[39;00m\n\u001B[0;32m---> 93\u001B[0m     \u001B[38;5;28;01mreturn\u001B[39;00m \u001B[43m_language_query\u001B[49m\u001B[43m(\u001B[49m\u001B[38;5;28;43mself\u001B[39;49m\u001B[38;5;241;43m.\u001B[39;49m\u001B[43mlanguage_id\u001B[49m\u001B[43m,\u001B[49m\u001B[43m \u001B[49m\u001B[43msource\u001B[49m\u001B[43m)\u001B[49m\n",
      "\u001B[0;31mNameError\u001B[0m: Invalid node type type_identifier"
     ]
    }
   ],
   "source": [
    "query = PYTHON_LANGUAGE.query(\"\"\"\n",
    "    ((identifier) @identifier)\n",
    "    ((type_identifier) @type)\n",
    "   \"\"\")\n",
    "captures_b = query.captures(tree.root_node)\n",
    "print(len(captures_b))"
   ],
   "metadata": {
    "collapsed": false,
    "ExecuteTime": {
     "end_time": "2023-06-26T07:27:35.641704258Z",
     "start_time": "2023-06-26T07:27:35.617738346Z"
    }
   }
  },
  {
   "cell_type": "code",
   "execution_count": 29,
   "outputs": [],
   "source": [
    "res = []\n",
    "for node, _ in captures_b:\n",
    "    token = code[node.start_byte:node.end_byte]\n",
    "    res.append(token.decode())"
   ],
   "metadata": {
    "collapsed": false,
    "ExecuteTime": {
     "end_time": "2023-06-26T07:26:07.949240197Z",
     "start_time": "2023-06-26T07:26:07.945483832Z"
    }
   }
  },
  {
   "cell_type": "code",
   "execution_count": 30,
   "outputs": [
    {
     "name": "stdout",
     "output_type": "stream",
     "text": [
      "['collections', 'Counter', 'numpy', 'np', 'multiset', 'Multiset', 'entity', 'taxonomy', 'KeywordLabel', 'annotation', 'LFBase', 'KeywordLF', 'LFBase', 'annotate', 'self', 'name', 'str', 'content', 'str', 'np', 'array', 'node_labels', 'np', 'zeros', 'len', 'self', 'taxonomy', '_label', 'self', 'taxonomy', 'label', 'KeywordLabel', '_label', 'intersection', 'list', 'label', 'keywords', 'intersection', 'Multiset', 'content', 'split', 'intersection', 'Counter', 'intersection', 'node_labels', 'label', 'index', 'sum', 'intersection', 'k', 'label', 'weights', 'k', 'k', 'intersection', 'keys', 'norm', 'np', 'sum', 'node_labels', 'node_vec', 'node_labels', 'norm', 'norm', 'np', 'zeros', 'len', 'self', 'taxonomy', 'node_vec']\n"
     ]
    }
   ],
   "source": [
    "print(res)"
   ],
   "metadata": {
    "collapsed": false,
    "ExecuteTime": {
     "end_time": "2023-06-26T07:26:08.350147354Z",
     "start_time": "2023-06-26T07:26:08.340962689Z"
    }
   }
  },
  {
   "cell_type": "code",
   "execution_count": 31,
   "outputs": [],
   "source": [
    "gt = ['collections', 'Counter', 'numpy', 'np', 'multiset', 'Multiset', 'entity',\n",
    "      'taxonomy', 'KeywordLabel', 'annotation', 'LFBase', 'KeywordLF', 'LFBase',\n",
    "      'annotate', 'self', 'name', 'str', 'content', 'str', 'np', 'array',\n",
    "      'node_labels', 'np', 'zeros', 'len', 'self', 'taxonomy', '_label', 'self', 'taxonomy',\n",
    "      'label', 'KeywordLabel', '_label', 'intersection', 'list', 'label', 'keywords', 'intersection',\n",
    "      'Multiset', 'content', 'split', 'intersection', 'Counter', 'intersection', 'node_labels', 'label',\n",
    "      'index', 'sum', 'intersection', 'k', 'label', 'weights', 'k', 'k', 'intersection', 'keys',\n",
    "      'norm', 'np', 'sum', 'node_labels', 'node_vec', 'node_labels', 'norm', 'norm', '0', 'np', 'zeros',\n",
    "      'len', 'self', 'taxonomy', 'node_vec']"
   ],
   "metadata": {
    "collapsed": false,
    "ExecuteTime": {
     "end_time": "2023-06-26T07:26:13.546044095Z",
     "start_time": "2023-06-26T07:26:13.537963709Z"
    }
   }
  },
  {
   "cell_type": "code",
   "execution_count": 32,
   "outputs": [
    {
     "data": {
      "text/plain": "71"
     },
     "execution_count": 32,
     "metadata": {},
     "output_type": "execute_result"
    }
   ],
   "source": [
    "len(gt)"
   ],
   "metadata": {
    "collapsed": false,
    "ExecuteTime": {
     "end_time": "2023-06-26T07:26:14.176770604Z",
     "start_time": "2023-06-26T07:26:14.161063402Z"
    }
   }
  },
  {
   "cell_type": "code",
   "execution_count": 33,
   "outputs": [
    {
     "data": {
      "text/plain": "Multiset({})"
     },
     "execution_count": 33,
     "metadata": {},
     "output_type": "execute_result"
    }
   ],
   "source": [
    "from multiset import Multiset\n",
    "\n",
    "Multiset(res) - Multiset(gt)"
   ],
   "metadata": {
    "collapsed": false,
    "ExecuteTime": {
     "end_time": "2023-06-26T07:26:16.745946755Z",
     "start_time": "2023-06-26T07:26:16.738504434Z"
    }
   }
  },
  {
   "cell_type": "code",
   "execution_count": 33,
   "outputs": [],
   "source": [],
   "metadata": {
    "collapsed": false,
    "ExecuteTime": {
     "end_time": "2023-06-26T07:26:17.242912865Z",
     "start_time": "2023-06-26T07:26:17.221605784Z"
    }
   }
  },
  {
   "cell_type": "code",
   "execution_count": null,
   "outputs": [],
   "source": [],
   "metadata": {
    "collapsed": false
   }
  }
 ],
 "metadata": {
  "kernelspec": {
   "display_name": "Python 3",
   "language": "python",
   "name": "python3"
  },
  "language_info": {
   "codemirror_mode": {
    "name": "ipython",
    "version": 2
   },
   "file_extension": ".py",
   "mimetype": "text/x-python",
   "name": "python",
   "nbconvert_exporter": "python",
   "pygments_lexer": "ipython2",
   "version": "2.7.6"
  }
 },
 "nbformat": 4,
 "nbformat_minor": 0
}
