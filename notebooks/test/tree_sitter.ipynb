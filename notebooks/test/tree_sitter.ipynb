{
 "cells": [
  {
   "cell_type": "code",
   "execution_count": 2,
   "metadata": {
    "collapsed": true,
    "ExecuteTime": {
     "end_time": "2023-06-25T10:13:09.848688249Z",
     "start_time": "2023-06-25T10:13:09.798454943Z"
    }
   },
   "outputs": [],
   "source": [
    "from tree_sitter import Language, Parser"
   ]
  },
  {
   "cell_type": "code",
   "execution_count": 66,
   "outputs": [
    {
     "data": {
      "text/plain": "False"
     },
     "execution_count": 66,
     "metadata": {},
     "output_type": "execute_result"
    }
   ],
   "source": [
    "\n",
    "Language.build_library(\n",
    "    # Store the library in the `build` directory\n",
    "    'my-languages.so',\n",
    "\n",
    "    # Include one or more languages\n",
    "    [\n",
    "        '/home/sasce/PycharmProjects/AutoFL/data/grammars/tree-sitter-java',\n",
    "        '/home/sasce/PycharmProjects/AutoFL/data/grammars/tree-sitter-python'\n",
    "    ]\n",
    ")"
   ],
   "metadata": {
    "collapsed": false,
    "ExecuteTime": {
     "end_time": "2023-06-25T10:10:30.564745761Z",
     "start_time": "2023-06-25T10:10:30.557452422Z"
    }
   }
  },
  {
   "cell_type": "code",
   "execution_count": 3,
   "outputs": [],
   "source": [
    "JAVA_LANGUAGE = Language('/home/sasce/PycharmProjects/AutoFL/notebooks/test/my-languages.so', 'java')"
   ],
   "metadata": {
    "collapsed": false,
    "ExecuteTime": {
     "end_time": "2023-06-25T10:13:11.875679380Z",
     "start_time": "2023-06-25T10:13:11.871067486Z"
    }
   }
  },
  {
   "cell_type": "code",
   "execution_count": 4,
   "outputs": [],
   "source": [
    "parser = Parser()\n",
    "parser.set_language(JAVA_LANGUAGE)"
   ],
   "metadata": {
    "collapsed": false,
    "ExecuteTime": {
     "end_time": "2023-06-25T10:13:12.147234739Z",
     "start_time": "2023-06-25T10:13:12.141171565Z"
    }
   }
  },
  {
   "cell_type": "code",
   "execution_count": 5,
   "outputs": [],
   "source": [
    "code = \"\"\"\n",
    "class Lamp {\n",
    "\n",
    "  // stores the value for light\n",
    "  // true if light is on\n",
    "  // false if light is off\n",
    "  boolean isOn;\n",
    "\n",
    "  // method to turn on the light\n",
    "  void turnOn() {\n",
    "    isOn = true;\n",
    "    System.out.println(\"Light on? \" + isOn);\n",
    "\n",
    "  }\n",
    "\n",
    "  // method to turnoff the light\n",
    "  void turnOff() {\n",
    "    isOn = false;\n",
    "    System.out.println(\"Light on? \" + isOn);\n",
    "  }\n",
    "}\n",
    "\n",
    "class Main {\n",
    "  public static void main(String[] args) {\n",
    "\n",
    "    // create objects led and halogen\n",
    "    Lamp led = new Lamp();\n",
    "    Lamp halogen = new Lamp();\n",
    "\n",
    "    // turn on the light by\n",
    "    // calling method turnOn()\n",
    "    led.turnOn();\n",
    "\n",
    "    // turn off the light by\n",
    "    // calling method turnOff()\n",
    "    halogen.turnOff();\n",
    "  }\n",
    "}\n",
    "\"\"\""
   ],
   "metadata": {
    "collapsed": false,
    "ExecuteTime": {
     "end_time": "2023-06-25T10:13:12.442040772Z",
     "start_time": "2023-06-25T10:13:12.438574664Z"
    }
   }
  },
  {
   "cell_type": "code",
   "execution_count": 6,
   "outputs": [],
   "source": [
    "code = bytes(code, \"utf8\")\n",
    "tree = parser.parse(code)"
   ],
   "metadata": {
    "collapsed": false,
    "ExecuteTime": {
     "end_time": "2023-06-25T10:13:12.786689951Z",
     "start_time": "2023-06-25T10:13:12.773138043Z"
    }
   }
  },
  {
   "cell_type": "code",
   "execution_count": 7,
   "outputs": [
    {
     "data": {
      "text/plain": "'(program (class_declaration name: (identifier) body: (class_body (line_comment) (line_comment) (line_comment) (field_declaration type: (boolean_type) declarator: (variable_declarator name: (identifier))) (line_comment) (method_declaration type: (void_type) name: (identifier) parameters: (formal_parameters) body: (block (expression_statement (assignment_expression left: (identifier) right: (true))) (expression_statement (method_invocation object: (field_access object: (identifier) field: (identifier)) name: (identifier) arguments: (argument_list (binary_expression left: (string_literal (string_fragment)) right: (identifier))))))) (line_comment) (method_declaration type: (void_type) name: (identifier) parameters: (formal_parameters) body: (block (expression_statement (assignment_expression left: (identifier) right: (false))) (expression_statement (method_invocation object: (field_access object: (identifier) field: (identifier)) name: (identifier) arguments: (argument_list (binary_expression left: (string_literal (string_fragment)) right: (identifier))))))))) (class_declaration name: (identifier) body: (class_body (method_declaration (modifiers) type: (void_type) name: (identifier) parameters: (formal_parameters (formal_parameter type: (array_type element: (type_identifier) dimensions: (dimensions)) name: (identifier))) body: (block (line_comment) (local_variable_declaration type: (type_identifier) declarator: (variable_declarator name: (identifier) value: (object_creation_expression type: (type_identifier) arguments: (argument_list)))) (local_variable_declaration type: (type_identifier) declarator: (variable_declarator name: (identifier) value: (object_creation_expression type: (type_identifier) arguments: (argument_list)))) (line_comment) (line_comment) (expression_statement (method_invocation object: (identifier) name: (identifier) arguments: (argument_list))) (line_comment) (line_comment) (expression_statement (method_invocation object: (identifier) name: (identifier) arguments: (argument_list))))))))'"
     },
     "execution_count": 7,
     "metadata": {},
     "output_type": "execute_result"
    }
   ],
   "source": [
    "tree.root_node.sexp()"
   ],
   "metadata": {
    "collapsed": false,
    "ExecuteTime": {
     "end_time": "2023-06-25T10:13:13.067402990Z",
     "start_time": "2023-06-25T10:13:13.060079867Z"
    }
   }
  },
  {
   "cell_type": "code",
   "execution_count": 8,
   "outputs": [
    {
     "name": "stdout",
     "output_type": "stream",
     "text": [
      "0\n"
     ]
    }
   ],
   "source": [
    "query = JAVA_LANGUAGE.query(\"\"\"(scoped_identifier scope: (identifier) @identifier.def)\"\"\")\n",
    "captures_a = query.captures(tree.root_node)\n",
    "print(len(captures_a))"
   ],
   "metadata": {
    "collapsed": false,
    "ExecuteTime": {
     "end_time": "2023-06-25T10:13:13.322452449Z",
     "start_time": "2023-06-25T10:13:13.317280415Z"
    }
   }
  },
  {
   "cell_type": "code",
   "execution_count": 9,
   "outputs": [
    {
     "name": "stdout",
     "output_type": "stream",
     "text": [
      "28\n"
     ]
    }
   ],
   "source": [
    "query = JAVA_LANGUAGE.query(\"\"\"\n",
    "    ((identifier) @identifier)\n",
    "    ((type_identifier) @type)\"\"\")\n",
    "captures_b = query.captures(tree.root_node)\n",
    "print(len(captures_b))"
   ],
   "metadata": {
    "collapsed": false,
    "ExecuteTime": {
     "end_time": "2023-06-25T10:13:14.232036581Z",
     "start_time": "2023-06-25T10:13:14.228162572Z"
    }
   }
  },
  {
   "cell_type": "code",
   "execution_count": 10,
   "outputs": [],
   "source": [
    "res = []\n",
    "for node, _ in captures_b:\n",
    "    token = code[node.start_byte:node.end_byte]\n",
    "    res.append(token.decode())"
   ],
   "metadata": {
    "collapsed": false,
    "ExecuteTime": {
     "end_time": "2023-06-25T10:13:14.862967130Z",
     "start_time": "2023-06-25T10:13:14.855851870Z"
    }
   }
  },
  {
   "cell_type": "code",
   "execution_count": 11,
   "outputs": [
    {
     "name": "stdout",
     "output_type": "stream",
     "text": [
      "['Lamp', 'isOn', 'turnOn', 'isOn', 'System', 'out', 'println', 'isOn', 'turnOff', 'isOn', 'System', 'out', 'println', 'isOn', 'Main', 'main', 'String', 'args', 'Lamp', 'led', 'Lamp', 'Lamp', 'halogen', 'Lamp', 'led', 'turnOn', 'halogen', 'turnOff']\n"
     ]
    }
   ],
   "source": [
    "print(res)"
   ],
   "metadata": {
    "collapsed": false,
    "ExecuteTime": {
     "end_time": "2023-06-25T10:13:15.280973536Z",
     "start_time": "2023-06-25T10:13:15.277493016Z"
    }
   }
  },
  {
   "cell_type": "code",
   "execution_count": 12,
   "outputs": [],
   "source": [
    "PYTHON_LANGUAGE = Language('/home/sasce/PycharmProjects/AutoFL/notebooks/test/my-languages.so', 'python')\n",
    "parser = Parser()\n",
    "parser.set_language(PYTHON_LANGUAGE)"
   ],
   "metadata": {
    "collapsed": false,
    "ExecuteTime": {
     "end_time": "2023-06-25T11:15:20.547689922Z",
     "start_time": "2023-06-25T11:15:20.524413406Z"
    }
   }
  },
  {
   "cell_type": "code",
   "execution_count": 13,
   "outputs": [],
   "source": [
    "code = \"\"\"\n",
    "from collections import Counter\n",
    "import numpy as np\n",
    "from multiset import Multiset\n",
    "from entity.taxonomy import KeywordLabel\n",
    "from annotation import LFBase\n",
    "\n",
    "\n",
    "class KeywordLF(LFBase):\n",
    "\n",
    "    def annotate(self, name: str, content: str) -> np.array:\n",
    "        node_labels = np.zeros(len(self.taxonomy))\n",
    "        for _label in self.taxonomy:\n",
    "            label: KeywordLabel = _label\n",
    "            intersection = list(label.keywords.intersection(Multiset(content.split())))\n",
    "            intersection = Counter(intersection)\n",
    "            node_labels[label.index] = sum([intersection[k] * label.weights[k]\n",
    "                                            for k in intersection.keys()])\n",
    "\n",
    "        norm = np.sum(node_labels)\n",
    "        node_vec = node_labels / norm if norm > 0 else np.zeros(len(self.taxonomy))\n",
    "\n",
    "        return node_vec\n",
    "\n",
    "\"\"\""
   ],
   "metadata": {
    "collapsed": false,
    "ExecuteTime": {
     "end_time": "2023-06-25T11:15:56.737414790Z",
     "start_time": "2023-06-25T11:15:56.690064568Z"
    }
   }
  },
  {
   "cell_type": "code",
   "execution_count": 14,
   "outputs": [],
   "source": [
    "code = bytes(code, \"utf8\")\n",
    "tree = parser.parse(code)"
   ],
   "metadata": {
    "collapsed": false,
    "ExecuteTime": {
     "end_time": "2023-06-25T11:15:57.774108557Z",
     "start_time": "2023-06-25T11:15:57.768093303Z"
    }
   }
  },
  {
   "cell_type": "code",
   "execution_count": 15,
   "outputs": [
    {
     "data": {
      "text/plain": "'(module (import_from_statement module_name: (dotted_name (identifier)) name: (dotted_name (identifier))) (import_statement name: (aliased_import name: (dotted_name (identifier)) alias: (identifier))) (import_from_statement module_name: (dotted_name (identifier)) name: (dotted_name (identifier))) (import_from_statement module_name: (dotted_name (identifier) (identifier)) name: (dotted_name (identifier))) (import_from_statement module_name: (dotted_name (identifier)) name: (dotted_name (identifier))) (class_definition name: (identifier) superclasses: (argument_list (identifier)) body: (block (function_definition name: (identifier) parameters: (parameters (identifier) (typed_parameter (identifier) type: (type (identifier))) (typed_parameter (identifier) type: (type (identifier)))) return_type: (type (attribute object: (identifier) attribute: (identifier))) body: (block (expression_statement (assignment left: (identifier) right: (call function: (attribute object: (identifier) attribute: (identifier)) arguments: (argument_list (call function: (identifier) arguments: (argument_list (attribute object: (identifier) attribute: (identifier)))))))) (for_statement left: (identifier) right: (attribute object: (identifier) attribute: (identifier)) body: (block (expression_statement (assignment left: (identifier) type: (type (identifier)) right: (identifier))) (expression_statement (assignment left: (identifier) right: (call function: (identifier) arguments: (argument_list (call function: (attribute object: (attribute object: (identifier) attribute: (identifier)) attribute: (identifier)) arguments: (argument_list (call function: (identifier) arguments: (argument_list (call function: (attribute object: (identifier) attribute: (identifier)) arguments: (argument_list)))))))))) (expression_statement (assignment left: (identifier) right: (call function: (identifier) arguments: (argument_list (identifier))))) (expression_statement (assignment left: (subscript value: (identifier) subscript: (attribute object: (identifier) attribute: (identifier))) right: (call function: (identifier) arguments: (argument_list (list_comprehension body: (binary_operator left: (subscript value: (identifier) subscript: (identifier)) right: (subscript value: (attribute object: (identifier) attribute: (identifier)) subscript: (identifier))) (for_in_clause left: (identifier) right: (call function: (attribute object: (identifier) attribute: (identifier)) arguments: (argument_list)))))))))) (expression_statement (assignment left: (identifier) right: (call function: (attribute object: (identifier) attribute: (identifier)) arguments: (argument_list (identifier))))) (expression_statement (assignment left: (identifier) right: (conditional_expression (binary_operator left: (identifier) right: (identifier)) (comparison_operator (identifier) (integer)) (call function: (attribute object: (identifier) attribute: (identifier)) arguments: (argument_list (call function: (identifier) arguments: (argument_list (attribute object: (identifier) attribute: (identifier))))))))) (return_statement (identifier)))))))'"
     },
     "execution_count": 15,
     "metadata": {},
     "output_type": "execute_result"
    }
   ],
   "source": [
    "tree.root_node.sexp()"
   ],
   "metadata": {
    "collapsed": false,
    "ExecuteTime": {
     "end_time": "2023-06-25T11:15:58.561411982Z",
     "start_time": "2023-06-25T11:15:58.535678943Z"
    }
   }
  },
  {
   "cell_type": "code",
   "execution_count": 16,
   "outputs": [
    {
     "name": "stdout",
     "output_type": "stream",
     "text": [
      "70\n"
     ]
    }
   ],
   "source": [
    "query = PYTHON_LANGUAGE.query(\"\"\"\n",
    "    ((identifier) @identifier)\n",
    "   \"\"\")\n",
    "captures_b = query.captures(tree.root_node)\n",
    "print(len(captures_b))"
   ],
   "metadata": {
    "collapsed": false,
    "ExecuteTime": {
     "end_time": "2023-06-25T11:16:42.576616442Z",
     "start_time": "2023-06-25T11:16:42.530602282Z"
    }
   }
  },
  {
   "cell_type": "code",
   "execution_count": 17,
   "outputs": [],
   "source": [
    "res = []\n",
    "for node, _ in captures_b:\n",
    "    token = code[node.start_byte:node.end_byte]\n",
    "    res.append(token.decode())"
   ],
   "metadata": {
    "collapsed": false,
    "ExecuteTime": {
     "end_time": "2023-06-25T11:16:55.243305099Z",
     "start_time": "2023-06-25T11:16:55.218749593Z"
    }
   }
  },
  {
   "cell_type": "code",
   "execution_count": 18,
   "outputs": [
    {
     "name": "stdout",
     "output_type": "stream",
     "text": [
      "['collections', 'Counter', 'numpy', 'np', 'multiset', 'Multiset', 'entity', 'taxonomy', 'KeywordLabel', 'annotation', 'LFBase', 'KeywordLF', 'LFBase', 'annotate', 'self', 'name', 'str', 'content', 'str', 'np', 'array', 'node_labels', 'np', 'zeros', 'len', 'self', 'taxonomy', '_label', 'self', 'taxonomy', 'label', 'KeywordLabel', '_label', 'intersection', 'list', 'label', 'keywords', 'intersection', 'Multiset', 'content', 'split', 'intersection', 'Counter', 'intersection', 'node_labels', 'label', 'index', 'sum', 'intersection', 'k', 'label', 'weights', 'k', 'k', 'intersection', 'keys', 'norm', 'np', 'sum', 'node_labels', 'node_vec', 'node_labels', 'norm', 'norm', 'np', 'zeros', 'len', 'self', 'taxonomy', 'node_vec']\n"
     ]
    }
   ],
   "source": [
    "print(res)"
   ],
   "metadata": {
    "collapsed": false,
    "ExecuteTime": {
     "end_time": "2023-06-25T11:16:58.770892215Z",
     "start_time": "2023-06-25T11:16:58.744531859Z"
    }
   }
  },
  {
   "cell_type": "code",
   "execution_count": 19,
   "outputs": [],
   "source": [
    "gt = ['collections', 'Counter', 'numpy', 'np', 'multiset', 'Multiset', 'entity',\n",
    "      'taxonomy', 'KeywordLabel', 'annotation', 'LFBase', 'KeywordLF', 'LFBase',\n",
    "      'annotate', 'self', 'name', 'str', 'content', 'str', 'np', 'array',\n",
    "      'node_labels', 'np', 'zeros', 'len', 'self', 'taxonomy', '_label', 'self', 'taxonomy',\n",
    "      'label', 'KeywordLabel', '_label', 'intersection', 'list', 'label', 'keywords', 'intersection',\n",
    "      'Multiset', 'content', 'split', 'intersection', 'Counter', 'intersection', 'node_labels', 'label',\n",
    "      'index', 'sum', 'intersection', 'k', 'label', 'weights', 'k', 'k', 'intersection', 'keys',\n",
    "      'norm', 'np', 'sum', 'node_labels', 'node_vec', 'node_labels', 'norm', 'norm', '0', 'np', 'zeros',\n",
    "      'len', 'self', 'taxonomy', 'node_vec']"
   ],
   "metadata": {
    "collapsed": false,
    "ExecuteTime": {
     "end_time": "2023-06-25T11:17:58.706965172Z",
     "start_time": "2023-06-25T11:17:58.686022385Z"
    }
   }
  },
  {
   "cell_type": "code",
   "execution_count": 20,
   "outputs": [
    {
     "data": {
      "text/plain": "71"
     },
     "execution_count": 20,
     "metadata": {},
     "output_type": "execute_result"
    }
   ],
   "source": [
    "len(gt)"
   ],
   "metadata": {
    "collapsed": false,
    "ExecuteTime": {
     "end_time": "2023-06-25T11:18:02.175332501Z",
     "start_time": "2023-06-25T11:18:02.140636521Z"
    }
   }
  },
  {
   "cell_type": "code",
   "execution_count": 22,
   "outputs": [
    {
     "data": {
      "text/plain": "Multiset({})"
     },
     "execution_count": 22,
     "metadata": {},
     "output_type": "execute_result"
    }
   ],
   "source": [
    "from multiset import Multiset\n",
    "\n",
    "Multiset(res) - Multiset(gt)"
   ],
   "metadata": {
    "collapsed": false,
    "ExecuteTime": {
     "end_time": "2023-06-25T11:19:03.396378381Z",
     "start_time": "2023-06-25T11:19:03.383987499Z"
    }
   }
  },
  {
   "cell_type": "code",
   "execution_count": null,
   "outputs": [],
   "source": [],
   "metadata": {
    "collapsed": false
   }
  }
 ],
 "metadata": {
  "kernelspec": {
   "display_name": "Python 3",
   "language": "python",
   "name": "python3"
  },
  "language_info": {
   "codemirror_mode": {
    "name": "ipython",
    "version": 2
   },
   "file_extension": ".py",
   "mimetype": "text/x-python",
   "name": "python",
   "nbconvert_exporter": "python",
   "pygments_lexer": "ipython2",
   "version": "2.7.6"
  }
 },
 "nbformat": 4,
 "nbformat_minor": 0
}
